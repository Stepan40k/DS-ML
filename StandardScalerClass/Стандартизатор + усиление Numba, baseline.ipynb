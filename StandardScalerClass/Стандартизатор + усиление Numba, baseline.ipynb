{
 "cells": [
  {
   "cell_type": "code",
   "execution_count": 1,
   "metadata": {},
   "outputs": [],
   "source": [
    "# импортируем классы BaseEstimator и TransformerMixin,\n",
    "# библиотеки pandas и numpy, модуль os\n",
    "from sklearn.base import BaseEstimator, TransformerMixin\n",
    "import pandas as pd\n",
    "import numpy as np\n",
    "import os"
   ]
  },
  {
   "cell_type": "code",
   "execution_count": 2,
   "metadata": {},
   "outputs": [
    {
     "data": {
      "text/plain": [
       "'/Users/artemgruzdev/Documents/Курс/Course_ML/Модуль_1'"
      ]
     },
     "execution_count": 2,
     "metadata": {},
     "output_type": "execute_result"
    }
   ],
   "source": [
    "# взглянем на наш рабочий каталог\n",
    "os.getcwd()"
   ]
  },
  {
   "cell_type": "code",
   "execution_count": 3,
   "metadata": {},
   "outputs": [],
   "source": [
    "# сменим рабочий каталог\n",
    "os.chdir('/Users/artemgruzdev/Documents/Курс/Course_ML/Модуль_2')\n",
    "# вернем обратно\n",
    "os.chdir('/Users/artemgruzdev/Documents/Курс/Course_ML/Модуль_1')"
   ]
  },
  {
   "cell_type": "code",
   "execution_count": 4,
   "metadata": {},
   "outputs": [],
   "source": [
    "# записываем CSV-файл в объект DataFrame\n",
    "data = pd.read_csv('Data/StateFarm.csv', sep=';')"
   ]
  },
  {
   "cell_type": "code",
   "execution_count": 5,
   "metadata": {},
   "outputs": [
    {
     "data": {
      "text/html": [
       "<div>\n",
       "<style scoped>\n",
       "    .dataframe tbody tr th:only-of-type {\n",
       "        vertical-align: middle;\n",
       "    }\n",
       "\n",
       "    .dataframe tbody tr th {\n",
       "        vertical-align: top;\n",
       "    }\n",
       "\n",
       "    .dataframe thead th {\n",
       "        text-align: right;\n",
       "    }\n",
       "</style>\n",
       "<table border=\"1\" class=\"dataframe\">\n",
       "  <thead>\n",
       "    <tr style=\"text-align: right;\">\n",
       "      <th></th>\n",
       "      <th>Customer Lifetime Value</th>\n",
       "      <th>Income</th>\n",
       "      <th>Monthly Premium Auto</th>\n",
       "      <th>Months Since Last Claim</th>\n",
       "      <th>Months Since Policy Inception</th>\n",
       "      <th>Number of Open Complaints</th>\n",
       "      <th>Number of Policies</th>\n",
       "      <th>Response</th>\n",
       "    </tr>\n",
       "  </thead>\n",
       "  <tbody>\n",
       "    <tr>\n",
       "      <td>0</td>\n",
       "      <td>18975.456110</td>\n",
       "      <td>65999</td>\n",
       "      <td>237</td>\n",
       "      <td>1</td>\n",
       "      <td>14</td>\n",
       "      <td>0</td>\n",
       "      <td>6</td>\n",
       "      <td>0</td>\n",
       "    </tr>\n",
       "    <tr>\n",
       "      <td>1</td>\n",
       "      <td>4715.321344</td>\n",
       "      <td>0</td>\n",
       "      <td>65</td>\n",
       "      <td>19</td>\n",
       "      <td>56</td>\n",
       "      <td>0</td>\n",
       "      <td>3</td>\n",
       "      <td>0</td>\n",
       "    </tr>\n",
       "    <tr>\n",
       "      <td>2</td>\n",
       "      <td>5018.885233</td>\n",
       "      <td>54500</td>\n",
       "      <td>63</td>\n",
       "      <td>28</td>\n",
       "      <td>17</td>\n",
       "      <td>0</td>\n",
       "      <td>6</td>\n",
       "      <td>0</td>\n",
       "    </tr>\n",
       "  </tbody>\n",
       "</table>\n",
       "</div>"
      ],
      "text/plain": [
       "   Customer Lifetime Value  Income  Monthly Premium Auto  \\\n",
       "0             18975.456110   65999                   237   \n",
       "1              4715.321344       0                    65   \n",
       "2              5018.885233   54500                    63   \n",
       "\n",
       "   Months Since Last Claim  Months Since Policy Inception  \\\n",
       "0                        1                             14   \n",
       "1                       19                             56   \n",
       "2                       28                             17   \n",
       "\n",
       "   Number of Open Complaints  Number of Policies  Response  \n",
       "0                          0                   6         0  \n",
       "1                          0                   3         0  \n",
       "2                          0                   6         0  "
      ]
     },
     "execution_count": 5,
     "metadata": {},
     "output_type": "execute_result"
    }
   ],
   "source": [
    "# смотрим данные\n",
    "data.head(3)"
   ]
  },
  {
   "cell_type": "code",
   "execution_count": 6,
   "metadata": {},
   "outputs": [],
   "source": [
    "# импортируем функцию train_test_split(), с помощью\n",
    "# которой разбиваем данные на обучающие и тестовые\n",
    "from sklearn.model_selection import train_test_split\n",
    "# разбиваем данные на обучающие и тестовые: получаем обучающий\n",
    "# массив признаков, тестовый массив признаков, обучающий массив\n",
    "# меток, тестовый массив меток\n",
    "X_train, X_test, y_train, y_test = train_test_split(data.drop('Response', axis=1), \n",
    "                                                    data['Response'], \n",
    "                                                    test_size=0.3,\n",
    "                                                    stratify=data['Response'],\n",
    "                                                    random_state=42)"
   ]
  },
  {
   "cell_type": "code",
   "execution_count": 7,
   "metadata": {},
   "outputs": [],
   "source": [
    "# создаем собственный класс, выполняющий замену\n",
    "# пропусков средним значением\n",
    "class MeanImputer(BaseEstimator, TransformerMixin):\n",
    "    \"\"\"\n",
    "    Параметры:\n",
    "    copy: возвращает копию\n",
    "    \"\"\"\n",
    "    def __init__(self, copy=True):\n",
    "        # все параметры для инициализации публичных атрибутов \n",
    "        # должны быть заданы в методе __init__\n",
    "        \n",
    "        # публичный атрибут\n",
    "        self.copy = copy\n",
    "        \n",
    "    def __is_numpy(self, X):\n",
    "        # частный метод, который с помощью функции isinstance()\n",
    "        # проверяет, является ли наш объект массивом NumPy\n",
    "        return isinstance(X, np.ndarray)\n",
    "                \n",
    "    def fit(self, X, y=None):\n",
    "        # fit должен принимать в качестве аргументов X и y\n",
    "        \n",
    "        # обучение модели осуществляется прямо здесь\n",
    "        # создаем пустой словарь, в котором ключами\n",
    "        # будут имена/целые числа, а значениями - средние\n",
    "        self._encoder_dict = {}\n",
    "        \n",
    "        # если 1D-массив, то переводим в 2D\n",
    "        if len(X.shape) == 1:\n",
    "            X = X.reshape(-1, 1)\n",
    "            \n",
    "        # записываем количество столбцов\n",
    "        ncols = X.shape[1]\n",
    "        \n",
    "        # записываем результат __is_numpy()\n",
    "        is_np = self.__is_numpy(X)\n",
    "        \n",
    "        # если объект - массив NumPy, выполняем следующие действия:\n",
    "        if is_np:\n",
    "            # по каждому столбцу массива NumPy\n",
    "            for col in range(ncols):\n",
    "                # вычисляем среднее и записываем в словарь\n",
    "                self._encoder_dict[col] = np.nanmean(X[:, col])\n",
    "        # в противном случае, т.е. если объект - датафрейм pandas,\n",
    "        # выполняем следующие действия:\n",
    "        else:\n",
    "            # по каждому столбцу датафрейма pandas\n",
    "            for col in X.columns:\n",
    "                # вычисляем среднее и записываем в словарь\n",
    "                self._encoder_dict[col] = X[col].mean()\n",
    "\n",
    "        # fit возвращает self\n",
    "        return self\n",
    "    \n",
    "    def transform(self, X):\n",
    "        # transform принимает в качестве аргумента только X\n",
    "        \n",
    "        # выполняем копирование массива во избежание предупреждения SettingWithCopyWarning\n",
    "        # \"A value is trying to be set on a copy of a slice from a DataFrame (Происходит \n",
    "        # попытка изменить значение в копии среза данных датафрейма)\"\n",
    "        if self.copy:\n",
    "            X = X.copy()\n",
    "        \n",
    "        # если 1D-массив, то переводим в 2D\n",
    "        if len(X.shape) == 1:\n",
    "            X = X.reshape(-1, 1)\n",
    "            \n",
    "        # записываем количество столбцов\n",
    "        ncols = X.shape[1]\n",
    "        \n",
    "        # записываем результат __is_numpy()\n",
    "        is_np = self.__is_numpy(X)\n",
    "        \n",
    "        # применяем преобразование к X\n",
    "        # если объект - массив NumPy, выполняем следующие действия:\n",
    "        if is_np:\n",
    "            # по каждому столбцу массива NumPy\n",
    "            for col in range(ncols):\n",
    "                # заменяем пропуски средним значением из словаря\n",
    "                X[:, col] = np.nan_to_num(X[:, col], nan=self._encoder_dict[col])\n",
    "        # в противном случае, т.е. если объект - датафрейм pandas,\n",
    "        # выполняем следующие действия:\n",
    "        else:\n",
    "            # по каждому столбцу датафрейма pandas\n",
    "            for col in X.columns:\n",
    "                # заменяем пропуски средним значением из словаря\n",
    "                X[col] = np.where(X[col].isnull(), self._encoder_dict[col], X[col])\n",
    "        \n",
    "        # transform возвращает X\n",
    "        return X"
   ]
  },
  {
   "cell_type": "code",
   "execution_count": 8,
   "metadata": {},
   "outputs": [
    {
     "data": {
      "text/html": [
       "<div>\n",
       "<style scoped>\n",
       "    .dataframe tbody tr th:only-of-type {\n",
       "        vertical-align: middle;\n",
       "    }\n",
       "\n",
       "    .dataframe tbody tr th {\n",
       "        vertical-align: top;\n",
       "    }\n",
       "\n",
       "    .dataframe thead th {\n",
       "        text-align: right;\n",
       "    }\n",
       "</style>\n",
       "<table border=\"1\" class=\"dataframe\">\n",
       "  <thead>\n",
       "    <tr style=\"text-align: right;\">\n",
       "      <th></th>\n",
       "      <th>Balance</th>\n",
       "      <th>Age</th>\n",
       "    </tr>\n",
       "  </thead>\n",
       "  <tbody>\n",
       "    <tr>\n",
       "      <td>0</td>\n",
       "      <td>8.3</td>\n",
       "      <td>23.0</td>\n",
       "    </tr>\n",
       "    <tr>\n",
       "      <td>1</td>\n",
       "      <td>NaN</td>\n",
       "      <td>29.0</td>\n",
       "    </tr>\n",
       "    <tr>\n",
       "      <td>2</td>\n",
       "      <td>10.2</td>\n",
       "      <td>36.0</td>\n",
       "    </tr>\n",
       "    <tr>\n",
       "      <td>3</td>\n",
       "      <td>3.1</td>\n",
       "      <td>NaN</td>\n",
       "    </tr>\n",
       "  </tbody>\n",
       "</table>\n",
       "</div>"
      ],
      "text/plain": [
       "   Balance   Age\n",
       "0      8.3  23.0\n",
       "1      NaN  29.0\n",
       "2     10.2  36.0\n",
       "3      3.1   NaN"
      ]
     },
     "execution_count": 8,
     "metadata": {},
     "output_type": "execute_result"
    }
   ],
   "source": [
    "# создаем игрушечный обучающий датафрейм pandas\n",
    "toy_train = pd.DataFrame({'Balance': [8.3, np.NaN, 10.2, 3.1], \n",
    "                        'Age': [23, 29, 36, np.NaN]})\n",
    "toy_train"
   ]
  },
  {
   "cell_type": "code",
   "execution_count": 9,
   "metadata": {},
   "outputs": [
    {
     "data": {
      "text/html": [
       "<div>\n",
       "<style scoped>\n",
       "    .dataframe tbody tr th:only-of-type {\n",
       "        vertical-align: middle;\n",
       "    }\n",
       "\n",
       "    .dataframe tbody tr th {\n",
       "        vertical-align: top;\n",
       "    }\n",
       "\n",
       "    .dataframe thead th {\n",
       "        text-align: right;\n",
       "    }\n",
       "</style>\n",
       "<table border=\"1\" class=\"dataframe\">\n",
       "  <thead>\n",
       "    <tr style=\"text-align: right;\">\n",
       "      <th></th>\n",
       "      <th>Balance</th>\n",
       "      <th>Age</th>\n",
       "    </tr>\n",
       "  </thead>\n",
       "  <tbody>\n",
       "    <tr>\n",
       "      <td>0</td>\n",
       "      <td>10.4</td>\n",
       "      <td>13.0</td>\n",
       "    </tr>\n",
       "    <tr>\n",
       "      <td>1</td>\n",
       "      <td>NaN</td>\n",
       "      <td>19.0</td>\n",
       "    </tr>\n",
       "    <tr>\n",
       "      <td>2</td>\n",
       "      <td>22.5</td>\n",
       "      <td>66.0</td>\n",
       "    </tr>\n",
       "    <tr>\n",
       "      <td>3</td>\n",
       "      <td>1.1</td>\n",
       "      <td>NaN</td>\n",
       "    </tr>\n",
       "  </tbody>\n",
       "</table>\n",
       "</div>"
      ],
      "text/plain": [
       "   Balance   Age\n",
       "0     10.4  13.0\n",
       "1      NaN  19.0\n",
       "2     22.5  66.0\n",
       "3      1.1   NaN"
      ]
     },
     "execution_count": 9,
     "metadata": {},
     "output_type": "execute_result"
    }
   ],
   "source": [
    "# создаем игрушечный тестовый датафрейм pandas\n",
    "toy_test = pd.DataFrame({'Balance': [10.4, np.NaN, 22.5, 1.1], \n",
    "                         'Age': [13, 19, 66, np.NaN]})\n",
    "toy_test"
   ]
  },
  {
   "cell_type": "code",
   "execution_count": 10,
   "metadata": {
    "scrolled": true
   },
   "outputs": [
    {
     "name": "stdout",
     "output_type": "stream",
     "text": [
      "обучающий датафрейм\n",
      "   Balance        Age\n",
      "0      8.3  23.000000\n",
      "1      7.2  29.000000\n",
      "2     10.2  36.000000\n",
      "3      3.1  29.333333\n",
      "\n",
      "тестовый датафрейм\n",
      "   Balance        Age\n",
      "0     10.4  13.000000\n",
      "1      7.2  19.000000\n",
      "2     22.5  66.000000\n",
      "3      1.1  29.333333\n"
     ]
    }
   ],
   "source": [
    "# смотрим, как будут выглядеть преобразования в игрушечных\n",
    "# обучающем и тестовом датафреймах pandas\n",
    "for col in toy_train.columns:\n",
    "    toy_train[col].fillna(toy_train[col].mean(), inplace=True)\n",
    "    toy_test[col].fillna(toy_train[col].mean(), inplace=True)\n",
    "print('обучающий датафрейм')\n",
    "print(toy_train)\n",
    "print('')\n",
    "print('тестовый датафрейм')\n",
    "print(toy_test)"
   ]
  },
  {
   "cell_type": "code",
   "execution_count": 11,
   "metadata": {},
   "outputs": [
    {
     "data": {
      "text/html": [
       "<div>\n",
       "<style scoped>\n",
       "    .dataframe tbody tr th:only-of-type {\n",
       "        vertical-align: middle;\n",
       "    }\n",
       "\n",
       "    .dataframe tbody tr th {\n",
       "        vertical-align: top;\n",
       "    }\n",
       "\n",
       "    .dataframe thead th {\n",
       "        text-align: right;\n",
       "    }\n",
       "</style>\n",
       "<table border=\"1\" class=\"dataframe\">\n",
       "  <thead>\n",
       "    <tr style=\"text-align: right;\">\n",
       "      <th></th>\n",
       "      <th>Balance</th>\n",
       "      <th>Age</th>\n",
       "    </tr>\n",
       "  </thead>\n",
       "  <tbody>\n",
       "    <tr>\n",
       "      <td>0</td>\n",
       "      <td>8.3</td>\n",
       "      <td>23.000000</td>\n",
       "    </tr>\n",
       "    <tr>\n",
       "      <td>1</td>\n",
       "      <td>7.2</td>\n",
       "      <td>29.000000</td>\n",
       "    </tr>\n",
       "    <tr>\n",
       "      <td>2</td>\n",
       "      <td>10.2</td>\n",
       "      <td>36.000000</td>\n",
       "    </tr>\n",
       "    <tr>\n",
       "      <td>3</td>\n",
       "      <td>3.1</td>\n",
       "      <td>29.333333</td>\n",
       "    </tr>\n",
       "  </tbody>\n",
       "</table>\n",
       "</div>"
      ],
      "text/plain": [
       "   Balance        Age\n",
       "0      8.3  23.000000\n",
       "1      7.2  29.000000\n",
       "2     10.2  36.000000\n",
       "3      3.1  29.333333"
      ]
     },
     "execution_count": 11,
     "metadata": {},
     "output_type": "execute_result"
    }
   ],
   "source": [
    "# создаем экземпляр класса MeanImputer\n",
    "imp = MeanImputer()\n",
    "# обучаем модель\n",
    "imp.fit(toy_train)\n",
    "# выполняем преобразование игрушечного\n",
    "# обучающего датафрейма pandas\n",
    "toy_train = imp.transform(toy_train)\n",
    "toy_train"
   ]
  },
  {
   "cell_type": "code",
   "execution_count": 12,
   "metadata": {},
   "outputs": [
    {
     "data": {
      "text/html": [
       "<div>\n",
       "<style scoped>\n",
       "    .dataframe tbody tr th:only-of-type {\n",
       "        vertical-align: middle;\n",
       "    }\n",
       "\n",
       "    .dataframe tbody tr th {\n",
       "        vertical-align: top;\n",
       "    }\n",
       "\n",
       "    .dataframe thead th {\n",
       "        text-align: right;\n",
       "    }\n",
       "</style>\n",
       "<table border=\"1\" class=\"dataframe\">\n",
       "  <thead>\n",
       "    <tr style=\"text-align: right;\">\n",
       "      <th></th>\n",
       "      <th>Balance</th>\n",
       "      <th>Age</th>\n",
       "    </tr>\n",
       "  </thead>\n",
       "  <tbody>\n",
       "    <tr>\n",
       "      <td>0</td>\n",
       "      <td>10.4</td>\n",
       "      <td>13.000000</td>\n",
       "    </tr>\n",
       "    <tr>\n",
       "      <td>1</td>\n",
       "      <td>7.2</td>\n",
       "      <td>19.000000</td>\n",
       "    </tr>\n",
       "    <tr>\n",
       "      <td>2</td>\n",
       "      <td>22.5</td>\n",
       "      <td>66.000000</td>\n",
       "    </tr>\n",
       "    <tr>\n",
       "      <td>3</td>\n",
       "      <td>1.1</td>\n",
       "      <td>29.333333</td>\n",
       "    </tr>\n",
       "  </tbody>\n",
       "</table>\n",
       "</div>"
      ],
      "text/plain": [
       "   Balance        Age\n",
       "0     10.4  13.000000\n",
       "1      7.2  19.000000\n",
       "2     22.5  66.000000\n",
       "3      1.1  29.333333"
      ]
     },
     "execution_count": 12,
     "metadata": {},
     "output_type": "execute_result"
    }
   ],
   "source": [
    "# выполняем преобразование игрушечного\n",
    "# тестового датафрейма pandas\n",
    "toy_test = imp.transform(toy_test)\n",
    "toy_test"
   ]
  },
  {
   "cell_type": "code",
   "execution_count": 13,
   "metadata": {},
   "outputs": [
    {
     "name": "stderr",
     "output_type": "stream",
     "text": [
      "/anaconda3/lib/python3.7/site-packages/ipykernel_launcher.py:87: SettingWithCopyWarning: \n",
      "A value is trying to be set on a copy of a slice from a DataFrame.\n",
      "Try using .loc[row_indexer,col_indexer] = value instead\n",
      "\n",
      "See the caveats in the documentation: http://pandas.pydata.org/pandas-docs/stable/user_guide/indexing.html#returning-a-view-versus-a-copy\n"
     ]
    },
    {
     "data": {
      "text/html": [
       "<div>\n",
       "<style scoped>\n",
       "    .dataframe tbody tr th:only-of-type {\n",
       "        vertical-align: middle;\n",
       "    }\n",
       "\n",
       "    .dataframe tbody tr th {\n",
       "        vertical-align: top;\n",
       "    }\n",
       "\n",
       "    .dataframe thead th {\n",
       "        text-align: right;\n",
       "    }\n",
       "</style>\n",
       "<table border=\"1\" class=\"dataframe\">\n",
       "  <thead>\n",
       "    <tr style=\"text-align: right;\">\n",
       "      <th></th>\n",
       "      <th>Balance</th>\n",
       "      <th>Age</th>\n",
       "    </tr>\n",
       "  </thead>\n",
       "  <tbody>\n",
       "    <tr>\n",
       "      <td>0</td>\n",
       "      <td>8.3</td>\n",
       "      <td>23.000000</td>\n",
       "    </tr>\n",
       "    <tr>\n",
       "      <td>1</td>\n",
       "      <td>NaN</td>\n",
       "      <td>29.000000</td>\n",
       "    </tr>\n",
       "    <tr>\n",
       "      <td>2</td>\n",
       "      <td>10.2</td>\n",
       "      <td>36.000000</td>\n",
       "    </tr>\n",
       "    <tr>\n",
       "      <td>3</td>\n",
       "      <td>3.1</td>\n",
       "      <td>29.333333</td>\n",
       "    </tr>\n",
       "  </tbody>\n",
       "</table>\n",
       "</div>"
      ],
      "text/plain": [
       "   Balance        Age\n",
       "0      8.3  23.000000\n",
       "1      NaN  29.000000\n",
       "2     10.2  36.000000\n",
       "3      3.1  29.333333"
      ]
     },
     "execution_count": 13,
     "metadata": {},
     "output_type": "execute_result"
    }
   ],
   "source": [
    "# создаем игрушечный обучающий датафрейм pandas\n",
    "toy_train = pd.DataFrame({'Balance': [8.3, np.NaN, 10.2, 3.1], \n",
    "                          'Age': [23, 29, 36, np.NaN]})\n",
    "\n",
    "# создаем экземпляр класса, отключив копирование\n",
    "imp = MeanImputer(copy=False)\n",
    "# обучаем модель\n",
    "imp.fit(toy_train[['Age']])\n",
    "# применяем модель\n",
    "toy_train['Age'] = imp.transform(toy_train[['Age']])\n",
    "toy_train"
   ]
  },
  {
   "cell_type": "code",
   "execution_count": 14,
   "metadata": {},
   "outputs": [
    {
     "data": {
      "text/html": [
       "<div>\n",
       "<style scoped>\n",
       "    .dataframe tbody tr th:only-of-type {\n",
       "        vertical-align: middle;\n",
       "    }\n",
       "\n",
       "    .dataframe tbody tr th {\n",
       "        vertical-align: top;\n",
       "    }\n",
       "\n",
       "    .dataframe thead th {\n",
       "        text-align: right;\n",
       "    }\n",
       "</style>\n",
       "<table border=\"1\" class=\"dataframe\">\n",
       "  <thead>\n",
       "    <tr style=\"text-align: right;\">\n",
       "      <th></th>\n",
       "      <th>Balance</th>\n",
       "      <th>Age</th>\n",
       "    </tr>\n",
       "  </thead>\n",
       "  <tbody>\n",
       "    <tr>\n",
       "      <td>0</td>\n",
       "      <td>8.3</td>\n",
       "      <td>23.000000</td>\n",
       "    </tr>\n",
       "    <tr>\n",
       "      <td>1</td>\n",
       "      <td>NaN</td>\n",
       "      <td>29.000000</td>\n",
       "    </tr>\n",
       "    <tr>\n",
       "      <td>2</td>\n",
       "      <td>10.2</td>\n",
       "      <td>36.000000</td>\n",
       "    </tr>\n",
       "    <tr>\n",
       "      <td>3</td>\n",
       "      <td>3.1</td>\n",
       "      <td>29.333333</td>\n",
       "    </tr>\n",
       "  </tbody>\n",
       "</table>\n",
       "</div>"
      ],
      "text/plain": [
       "   Balance        Age\n",
       "0      8.3  23.000000\n",
       "1      NaN  29.000000\n",
       "2     10.2  36.000000\n",
       "3      3.1  29.333333"
      ]
     },
     "execution_count": 14,
     "metadata": {},
     "output_type": "execute_result"
    }
   ],
   "source": [
    "# создаем игрушечный обучающий датафрейм pandas\n",
    "toy_train = pd.DataFrame({'Balance': [8.3, np.NaN, 10.2, 3.1], \n",
    "                          'Age': [23, 29, 36, np.NaN]})\n",
    "# создаем экземпляр класса, отключив копирование\n",
    "imp = MeanImputer(copy=True)\n",
    "# обучаем модель\n",
    "imp.fit(toy_train[['Age']])\n",
    "# применяем модель\n",
    "toy_train['Age'] = imp.transform(toy_train[['Age']])\n",
    "toy_train"
   ]
  },
  {
   "cell_type": "code",
   "execution_count": 15,
   "metadata": {},
   "outputs": [
    {
     "data": {
      "text/plain": [
       "array([[ 8.3, 23. ],\n",
       "       [ nan, 29. ],\n",
       "       [10.2, 36. ],\n",
       "       [ 3.1,  nan]])"
      ]
     },
     "execution_count": 15,
     "metadata": {},
     "output_type": "execute_result"
    }
   ],
   "source": [
    "# создаем игрушечный обучающий массив NumPy\n",
    "np_toy_train = np.array(pd.DataFrame({'Balance': [8.3, np.NaN, 10.2, 3.1], \n",
    "                                      'Age': [23, 29, 36, np.NaN]}))\n",
    "np_toy_train"
   ]
  },
  {
   "cell_type": "code",
   "execution_count": 16,
   "metadata": {},
   "outputs": [
    {
     "data": {
      "text/plain": [
       "array([[10.4, 13. ],\n",
       "       [ nan, 19. ],\n",
       "       [22.5, 66. ],\n",
       "       [ 1.1,  nan]])"
      ]
     },
     "execution_count": 16,
     "metadata": {},
     "output_type": "execute_result"
    }
   ],
   "source": [
    "# создаем игрушечный тестовый массив NumPy\n",
    "np_toy_test = np.array(pd.DataFrame({'Balance': [10.4, np.NaN, 22.5, 1.1], \n",
    "                                     'Age': [13, 19, 66, np.NaN]}))\n",
    "np_toy_test"
   ]
  },
  {
   "cell_type": "code",
   "execution_count": 17,
   "metadata": {},
   "outputs": [
    {
     "data": {
      "text/plain": [
       "array([[ 8.3       , 23.        ],\n",
       "       [ 7.2       , 29.        ],\n",
       "       [10.2       , 36.        ],\n",
       "       [ 3.1       , 29.33333333]])"
      ]
     },
     "execution_count": 17,
     "metadata": {},
     "output_type": "execute_result"
    }
   ],
   "source": [
    "# обучаем модель\n",
    "imp.fit(np_toy_train)\n",
    "# выполняем преобразование игрушечного\n",
    "# обучающего массива NumPy\n",
    "np_toy_train = imp.transform(np_toy_train)\n",
    "np_toy_train"
   ]
  },
  {
   "cell_type": "code",
   "execution_count": 18,
   "metadata": {},
   "outputs": [
    {
     "data": {
      "text/plain": [
       "array([[10.4       , 13.        ],\n",
       "       [ 7.2       , 19.        ],\n",
       "       [22.5       , 66.        ],\n",
       "       [ 1.1       , 29.33333333]])"
      ]
     },
     "execution_count": 18,
     "metadata": {},
     "output_type": "execute_result"
    }
   ],
   "source": [
    "# выполняем преобразование игрушечного\n",
    "# тестового массива NumPy\n",
    "np_toy_test = imp.transform(np_toy_test)\n",
    "np_toy_test"
   ]
  },
  {
   "cell_type": "code",
   "execution_count": 19,
   "metadata": {},
   "outputs": [
    {
     "data": {
      "text/plain": [
       "array([ 8.3,  nan, 10.2,  3.1])"
      ]
     },
     "execution_count": 19,
     "metadata": {},
     "output_type": "execute_result"
    }
   ],
   "source": [
    "# создаем 1-D массив NumPy\n",
    "array = np.array([8.3, np.NaN, 10.2, 3.1])\n",
    "array"
   ]
  },
  {
   "cell_type": "code",
   "execution_count": 20,
   "metadata": {},
   "outputs": [
    {
     "data": {
      "text/plain": [
       "1"
      ]
     },
     "execution_count": 20,
     "metadata": {},
     "output_type": "execute_result"
    }
   ],
   "source": [
    "# проверяем размерность массива\n",
    "array.ndim"
   ]
  },
  {
   "cell_type": "code",
   "execution_count": 21,
   "metadata": {},
   "outputs": [
    {
     "data": {
      "text/plain": [
       "array([[ 8.3],\n",
       "       [ 7.2],\n",
       "       [10.2],\n",
       "       [ 3.1]])"
      ]
     },
     "execution_count": 21,
     "metadata": {},
     "output_type": "execute_result"
    }
   ],
   "source": [
    "# проверяем работу класса\n",
    "imp.fit(array)\n",
    "array = imp.transform(array)\n",
    "array"
   ]
  },
  {
   "cell_type": "code",
   "execution_count": 22,
   "metadata": {},
   "outputs": [
    {
     "data": {
      "text/plain": [
       "2"
      ]
     },
     "execution_count": 22,
     "metadata": {},
     "output_type": "execute_result"
    }
   ],
   "source": [
    "# проверяем размерность массива\n",
    "array.ndim"
   ]
  },
  {
   "cell_type": "code",
   "execution_count": 23,
   "metadata": {},
   "outputs": [
    {
     "name": "stdout",
     "output_type": "stream",
     "text": [
      "Balance\n",
      "{'Balance': 7.2}\n",
      "\n",
      "Age\n",
      "{'Balance': 7.2, 'Age': 29.333333333333332}\n",
      "\n",
      "итоговый словарь {'Balance': 7.2, 'Age': 29.333333333333332}\n"
     ]
    }
   ],
   "source": [
    "# создаем игрушечный датафрейм pandas\n",
    "toy_train = pd.DataFrame({'Balance': [8.3, np.NaN, 10.2, 3.1], \n",
    "                          'Age': [23, 29, 36, np.NaN]})\n",
    "\n",
    "# создаем пустой словарь encoder_dict\n",
    "encoder_dict = {}\n",
    "\n",
    "# по каждой переменной\n",
    "for col in toy_train.columns:\n",
    "    # печатаем имя\n",
    "    print(col)\n",
    "    # вычисляем среднее и записываем в словарь\n",
    "    encoder_dict[col] = toy_train[col].mean()\n",
    "    # печатаем словарь\n",
    "    print(encoder_dict)\n",
    "    print('')\n",
    "    \n",
    "# печатаем итоговый словарь\n",
    "print('итоговый словарь', encoder_dict)"
   ]
  },
  {
   "cell_type": "code",
   "execution_count": 24,
   "metadata": {},
   "outputs": [
    {
     "name": "stdout",
     "output_type": "stream",
     "text": [
      "0\n",
      "{0: 7.2}\n",
      "\n",
      "1\n",
      "{0: 7.2, 1: 29.333333333333332}\n",
      "\n",
      "итоговый словарь {0: 7.2, 1: 29.333333333333332}\n"
     ]
    }
   ],
   "source": [
    "# создаем игрушечный обучающий массив NumPy\n",
    "np_toy_train = np.array(pd.DataFrame({'Balance': [8.3, np.NaN, 10.2, 3.1], \n",
    "                                      'Age': [23, 29, 36, np.NaN]}))\n",
    "\n",
    "# создаем пустой словарь encoder_dict\n",
    "encoder_dict = {}\n",
    "\n",
    "# по каждой переменной\n",
    "for col in range(np_toy_train.shape[1]):\n",
    "    # печатаем имя\n",
    "    print(col)\n",
    "    # вычисляем среднее и записываем в словарь\n",
    "    encoder_dict[col] = np.nanmean(np_toy_train[:, col])\n",
    "    # печатаем словарь\n",
    "    print(encoder_dict)\n",
    "    print('')\n",
    "    \n",
    "# печатаем итоговый словарь\n",
    "print('итоговый словарь', encoder_dict)  "
   ]
  },
  {
   "cell_type": "code",
   "execution_count": 25,
   "metadata": {},
   "outputs": [],
   "source": [
    "# импортируем класс StandardScaler, выполняющий стандартизацию\n",
    "from sklearn.preprocessing import StandardScaler\n",
    "# создаем модель стандартизации – экземпляр класса StandardScaler\n",
    "standardscaler = StandardScaler()"
   ]
  },
  {
   "cell_type": "code",
   "execution_count": 26,
   "metadata": {},
   "outputs": [
    {
     "data": {
      "text/plain": [
       "StandardScaler(copy=True, with_mean=True, with_std=True)"
      ]
     },
     "execution_count": 26,
     "metadata": {},
     "output_type": "execute_result"
    }
   ],
   "source": [
    "# обучаем модель стандартизации, т.е. по каждому признаку \n",
    "# в обучающем массиве признаков вычисляем\n",
    "# среднее значение признака и стандартное \n",
    "# отклонение признака для трансформации\n",
    "standardscaler.fit(X_train)"
   ]
  },
  {
   "cell_type": "code",
   "execution_count": 27,
   "metadata": {},
   "outputs": [],
   "source": [
    "# применяем модель стандартизации к обучающему массиву признаков: из исходного \n",
    "# значения признака вычитаем среднее значение признака, вычисленное \n",
    "# по ОБУЧАЮЩЕМУ массиву признаков, и результат делим на стандартное \n",
    "#отклонение признака, вычисленное по ОБУЧАЮЩЕМУ массиву признаков \n",
    "X_train_standardscaled = standardscaler.transform(X_train)\n",
    "\n",
    "# применяем модель стандартизации к тестовому массиву признаков: из исходного \n",
    "# значения признака вычитаем среднее значение признака, вычисленное \n",
    "# по ОБУЧАЮЩЕМУ массиву признаков, и результат делим на стандартное \n",
    "# отклонение признака, вычисленное по ОБУЧАЮЩЕМУ массиву признаков \n",
    "X_test_standardscaled = standardscaler.transform(X_test)"
   ]
  },
  {
   "cell_type": "code",
   "execution_count": 28,
   "metadata": {},
   "outputs": [
    {
     "name": "stdout",
     "output_type": "stream",
     "text": [
      "Правильность на обучающей выборке: 0.900\n",
      "Правильность на тестовой выборке: 0.900\n"
     ]
    }
   ],
   "source": [
    "# импортируем класс LogisticRegression,\n",
    "# строящий логистическую регрессию\n",
    "from sklearn.linear_model import LogisticRegression\n",
    "# создаем модель логистической регрессии – экземпляр класса LogisticRegression\n",
    "logreg = LogisticRegression(solver='lbfgs', max_iter=200)\n",
    "# обучаем модель логистической регрессии, т.е. \n",
    "# находим параметры - регрессионные коэффициенты\n",
    "logreg.fit(X_train_standardscaled, y_train)\n",
    "# оцениваем качество модели на обучающих данных\n",
    "print('Правильность на обучающей выборке: {:.3f}'.format(\n",
    "    logreg.score(X_train_standardscaled, y_train)))\n",
    "# оцениваем качество модели на тестовых данных\n",
    "print('Правильность на тестовой выборке: {:.3f}'.format(\n",
    "    logreg.score(X_test_standardscaled, y_test)))"
   ]
  },
  {
   "cell_type": "code",
   "execution_count": 29,
   "metadata": {},
   "outputs": [
    {
     "data": {
      "text/plain": [
       "array([0, 0, 0, 0, 0])"
      ]
     },
     "execution_count": 29,
     "metadata": {},
     "output_type": "execute_result"
    }
   ],
   "source": [
    "# вычисляем спрогнозированные значения зависимой переменной\n",
    "# для тестового массива признаков\n",
    "logreg_predvalues = logreg.predict(X_test_standardscaled)\n",
    "logreg_predvalues[:5]"
   ]
  },
  {
   "cell_type": "code",
   "execution_count": 30,
   "metadata": {},
   "outputs": [
    {
     "data": {
      "text/plain": [
       "array([[0.91027855, 0.08972145],\n",
       "       [0.89847518, 0.10152482],\n",
       "       [0.88300257, 0.11699743],\n",
       "       [0.90234211, 0.09765789],\n",
       "       [0.92554507, 0.07445493]])"
      ]
     },
     "execution_count": 30,
     "metadata": {},
     "output_type": "execute_result"
    }
   ],
   "source": [
    "# вычисляем вероятности классов зависимой переменной\n",
    "# для тестового массива признаков\n",
    "logreg_probabilities = logreg.predict_proba(X_test_standardscaled)\n",
    "logreg_probabilities[:5]"
   ]
  },
  {
   "cell_type": "code",
   "execution_count": 31,
   "metadata": {},
   "outputs": [],
   "source": [
    "# создаем игрушечный обучающий датафрейм pandas\n",
    "toy_train = pd.DataFrame({'Balance': [8.3, 9.4, 10.2, 0], \n",
    "                          'Age': [23, 29, 36, 44]})\n",
    "\n",
    "# создаем игрушечный тестовый датафрейм pandas\n",
    "toy_test = pd.DataFrame({'Balance': [10.4, 3.1, 22.5, -1], \n",
    "                         'Age': [13, 19, 66, 33]})"
   ]
  },
  {
   "cell_type": "code",
   "execution_count": 32,
   "metadata": {},
   "outputs": [],
   "source": [
    "# создаем собственный класс, выполняющий стандартизацию\n",
    "class CustomScaler(BaseEstimator, TransformerMixin):\n",
    "    def __init__(self, copy=True, corr=False):\n",
    "        self.copy = copy\n",
    "        self.corr = corr\n",
    "        \n",
    "    def __is_numpy(self, X):\n",
    "        # частный метод, который с помощью функции isinstance()\n",
    "        # проверяет, является ли наш объект массивом NumPy\n",
    "        return isinstance(X, np.ndarray)    \n",
    "    \n",
    "    def fit(self, X, y=None):\n",
    "        self.mean_dict = {}\n",
    "        self.std_dict = {}\n",
    "        \n",
    "        # если 1D-массив, то переводим в 2D\n",
    "        if len(X.shape) == 1:\n",
    "            X = X.reshape(-1, 1)\n",
    "             \n",
    "        # записываем результат __is_numpy()\n",
    "        is_np = self.__is_numpy(X)\n",
    "        \n",
    "        # если объект - массив NumPy, выполняем следующие действия:\n",
    "        if is_np:\n",
    "            # записываем количество столбцов\n",
    "            ncols = X.shape[1]\n",
    "            # по каждому столбцу массива NumPy\n",
    "            for col in range(ncols):\n",
    "                # вычисляем среднее\n",
    "                self.mean_dict[col] = np.mean(X[:, col])\n",
    "                # вычисляем стандартное отклонение\n",
    "                self.std_dict[col] = np.std(X[:, col], ddof=1)\n",
    "                if self.corr:\n",
    "                    self.std_dict[col] = np.std(X[:, col], ddof=1) * 2\n",
    "                \n",
    "        else:\n",
    "            # записываем список столбцов\n",
    "            num_columns = X.select_dtypes(exclude='object').columns.tolist()\n",
    "            # по каждому столбцу датафрейма pandas\n",
    "            for col in num_columns:\n",
    "                # вычисляем среднее\n",
    "                self.mean_dict[col] = X[col].mean()\n",
    "                # вычисляем стандартное отклонение\n",
    "                self.std_dict[col] = X[col].std()\n",
    "                if self.corr:\n",
    "                    self.std_dict[col] = X[col].std() * 2\n",
    "                \n",
    "            \n",
    "        return self\n",
    "    \n",
    "    def transform(self, X):\n",
    "        \n",
    "        if self.copy:\n",
    "            X = X.copy()\n",
    "            \n",
    "        # если 1D-массив, то переводим в 2D\n",
    "        if len(X.shape) == 1:\n",
    "            X = X.reshape(-1, 1)\n",
    "        \n",
    "        # записываем результат __is_numpy()\n",
    "        is_np = self.__is_numpy(X)\n",
    "            \n",
    "        # если объект - массив NumPy, выполняем следующие действия:\n",
    "        if is_np:\n",
    "            # записываем количество столбцов\n",
    "            ncols = X.shape[1]\n",
    "            # по каждому столбцу массива NumPy\n",
    "            for col in range(ncols):\n",
    "                # выполняем стандартизацию\n",
    "                X[:, col] = (X[:, col] - self.mean_dict[col]) / self.std_dict[col]\n",
    "        \n",
    "        else:\n",
    "            # записываем список столбцов\n",
    "            num_columns = X.select_dtypes(exclude='object').columns.tolist()\n",
    "            # по каждому столбцу датафрейма pandas\n",
    "            for col in num_columns:\n",
    "                # выполняем стандартизацию\n",
    "                X[col] = (X[col] - self.mean_dict[col]) / self.std_dict[col]\n",
    "                \n",
    "        return X"
   ]
  },
  {
   "cell_type": "code",
   "execution_count": 33,
   "metadata": {},
   "outputs": [
    {
     "name": "stdout",
     "output_type": "stream",
     "text": [
      "0    0.281031\n",
      "1    0.514340\n",
      "2    0.684019\n",
      "3   -1.479390\n",
      "Name: Balance, dtype: float64\n",
      "0   -1.104315\n",
      "1   -0.441726\n",
      "2    0.331295\n",
      "3    1.214747\n",
      "Name: Age, dtype: float64\n",
      "\n",
      "0    0.726439\n",
      "1   -0.821883\n",
      "2    3.292835\n",
      "3   -1.691489\n",
      "Name: Balance, dtype: float64\n",
      "0   -2.208631\n",
      "1   -1.546041\n",
      "2    3.644240\n",
      "3    0.000000\n",
      "Name: Age, dtype: float64\n"
     ]
    }
   ],
   "source": [
    "# смотрим, как должны выглядеть результаты\n",
    "print((toy_train['Balance'] - toy_train['Balance'].mean()) / toy_train['Balance'].std())\n",
    "print((toy_train['Age'] - toy_train['Age'].mean()) / toy_train['Age'].std())\n",
    "print('')\n",
    "print((toy_test['Balance'] - toy_train['Balance'].mean()) / toy_train['Balance'].std())\n",
    "print((toy_test['Age'] - toy_train['Age'].mean()) / toy_train['Age'].std())"
   ]
  },
  {
   "cell_type": "code",
   "execution_count": 34,
   "metadata": {},
   "outputs": [],
   "source": [
    "# применяем класс к датафреймам pandas\n",
    "scaler = CustomScaler()\n",
    "scaler.fit(toy_train)\n",
    "toy_train = scaler.transform(toy_train)\n",
    "toy_test = scaler.transform(toy_test)"
   ]
  },
  {
   "cell_type": "code",
   "execution_count": 35,
   "metadata": {},
   "outputs": [
    {
     "data": {
      "text/html": [
       "<div>\n",
       "<style scoped>\n",
       "    .dataframe tbody tr th:only-of-type {\n",
       "        vertical-align: middle;\n",
       "    }\n",
       "\n",
       "    .dataframe tbody tr th {\n",
       "        vertical-align: top;\n",
       "    }\n",
       "\n",
       "    .dataframe thead th {\n",
       "        text-align: right;\n",
       "    }\n",
       "</style>\n",
       "<table border=\"1\" class=\"dataframe\">\n",
       "  <thead>\n",
       "    <tr style=\"text-align: right;\">\n",
       "      <th></th>\n",
       "      <th>Balance</th>\n",
       "      <th>Age</th>\n",
       "    </tr>\n",
       "  </thead>\n",
       "  <tbody>\n",
       "    <tr>\n",
       "      <td>0</td>\n",
       "      <td>0.281031</td>\n",
       "      <td>-1.104315</td>\n",
       "    </tr>\n",
       "    <tr>\n",
       "      <td>1</td>\n",
       "      <td>0.514340</td>\n",
       "      <td>-0.441726</td>\n",
       "    </tr>\n",
       "    <tr>\n",
       "      <td>2</td>\n",
       "      <td>0.684019</td>\n",
       "      <td>0.331295</td>\n",
       "    </tr>\n",
       "    <tr>\n",
       "      <td>3</td>\n",
       "      <td>-1.479390</td>\n",
       "      <td>1.214747</td>\n",
       "    </tr>\n",
       "  </tbody>\n",
       "</table>\n",
       "</div>"
      ],
      "text/plain": [
       "    Balance       Age\n",
       "0  0.281031 -1.104315\n",
       "1  0.514340 -0.441726\n",
       "2  0.684019  0.331295\n",
       "3 -1.479390  1.214747"
      ]
     },
     "execution_count": 35,
     "metadata": {},
     "output_type": "execute_result"
    }
   ],
   "source": [
    "# смотрим результат на игрушечном обучающем датафрейме\n",
    "toy_train"
   ]
  },
  {
   "cell_type": "code",
   "execution_count": 36,
   "metadata": {},
   "outputs": [
    {
     "name": "stdout",
     "output_type": "stream",
     "text": [
      "Balance 1.0\n",
      "Age 1.0\n"
     ]
    }
   ],
   "source": [
    "# взглянем на стандартные отклонения\n",
    "for col in toy_train.columns:\n",
    "    print(col, toy_train[col].std())"
   ]
  },
  {
   "cell_type": "code",
   "execution_count": 37,
   "metadata": {},
   "outputs": [
    {
     "data": {
      "text/html": [
       "<div>\n",
       "<style scoped>\n",
       "    .dataframe tbody tr th:only-of-type {\n",
       "        vertical-align: middle;\n",
       "    }\n",
       "\n",
       "    .dataframe tbody tr th {\n",
       "        vertical-align: top;\n",
       "    }\n",
       "\n",
       "    .dataframe thead th {\n",
       "        text-align: right;\n",
       "    }\n",
       "</style>\n",
       "<table border=\"1\" class=\"dataframe\">\n",
       "  <thead>\n",
       "    <tr style=\"text-align: right;\">\n",
       "      <th></th>\n",
       "      <th>Balance</th>\n",
       "      <th>Age</th>\n",
       "    </tr>\n",
       "  </thead>\n",
       "  <tbody>\n",
       "    <tr>\n",
       "      <td>0</td>\n",
       "      <td>0.726439</td>\n",
       "      <td>-2.208631</td>\n",
       "    </tr>\n",
       "    <tr>\n",
       "      <td>1</td>\n",
       "      <td>-0.821883</td>\n",
       "      <td>-1.546041</td>\n",
       "    </tr>\n",
       "    <tr>\n",
       "      <td>2</td>\n",
       "      <td>3.292835</td>\n",
       "      <td>3.644240</td>\n",
       "    </tr>\n",
       "    <tr>\n",
       "      <td>3</td>\n",
       "      <td>-1.691489</td>\n",
       "      <td>0.000000</td>\n",
       "    </tr>\n",
       "  </tbody>\n",
       "</table>\n",
       "</div>"
      ],
      "text/plain": [
       "    Balance       Age\n",
       "0  0.726439 -2.208631\n",
       "1 -0.821883 -1.546041\n",
       "2  3.292835  3.644240\n",
       "3 -1.691489  0.000000"
      ]
     },
     "execution_count": 37,
     "metadata": {},
     "output_type": "execute_result"
    }
   ],
   "source": [
    "# смотрим результат на игрушечном тестовом датафрейме\n",
    "toy_test"
   ]
  },
  {
   "cell_type": "code",
   "execution_count": 38,
   "metadata": {},
   "outputs": [],
   "source": [
    "# создаем игрушечный обучающий массив NumPy\n",
    "np_toy_train = np.array(pd.DataFrame({'Balance': [8.3, 9.4, 10.2, 0], \n",
    "                                      'Age': [23, 29, 36, 44]}))\n",
    "\n",
    "# создаем игрушечный тестовый массив NumPy\n",
    "np_toy_test = np.array(pd.DataFrame({'Balance': [10.4, 3.1, 22.5, -1], \n",
    "                                     'Age': [13, 19, 66, 33]}))"
   ]
  },
  {
   "cell_type": "code",
   "execution_count": 39,
   "metadata": {},
   "outputs": [],
   "source": [
    "# применяем класс к массивам NumPy\n",
    "scaler = CustomScaler()\n",
    "scaler.fit(np_toy_train)\n",
    "np_toy_train = scaler.transform(np_toy_train)\n",
    "np_toy_test = scaler.transform(np_toy_test)"
   ]
  },
  {
   "cell_type": "code",
   "execution_count": 40,
   "metadata": {},
   "outputs": [
    {
     "data": {
      "text/plain": [
       "array([[ 0.28103104, -1.10431526],\n",
       "       [ 0.51433982, -0.4417261 ],\n",
       "       [ 0.68401894,  0.33129458],\n",
       "       [-1.4793898 ,  1.21474679]])"
      ]
     },
     "execution_count": 40,
     "metadata": {},
     "output_type": "execute_result"
    }
   ],
   "source": [
    "# смотрим результат на игрушечном \n",
    "# обучающем массиве NumPy\n",
    "np_toy_train"
   ]
  },
  {
   "cell_type": "code",
   "execution_count": 41,
   "metadata": {},
   "outputs": [
    {
     "data": {
      "text/plain": [
       "array([[ 0.72643872, -2.20863052],\n",
       "       [-0.82188322, -1.54604137],\n",
       "       [ 3.29283537,  3.64424036],\n",
       "       [-1.6914887 ,  0.        ]])"
      ]
     },
     "execution_count": 41,
     "metadata": {},
     "output_type": "execute_result"
    }
   ],
   "source": [
    "# смотрим результат на игрушечном \n",
    "# тестовом массиве NumPy\n",
    "np_toy_test"
   ]
  },
  {
   "cell_type": "code",
   "execution_count": 42,
   "metadata": {},
   "outputs": [],
   "source": [
    "# создаем игрушечный обучающий датафрейм pandas\n",
    "toy_train = pd.DataFrame({'Balance': [8.3, 9.4, 10.2, 0], \n",
    "                          'Age': [23, 29, 36, 44]})\n",
    "\n",
    "# создаем игрушечный тестовый датафрейм pandas\n",
    "toy_test = pd.DataFrame({'Balance': [10.4, 3.1, 22.5, -1], \n",
    "                         'Age': [13, 19, 66, 33]})"
   ]
  },
  {
   "cell_type": "code",
   "execution_count": 43,
   "metadata": {},
   "outputs": [
    {
     "name": "stdout",
     "output_type": "stream",
     "text": [
      "0    0.140516\n",
      "1    0.257170\n",
      "2    0.342009\n",
      "3   -0.739695\n",
      "Name: Balance, dtype: float64\n",
      "0   -0.552158\n",
      "1   -0.220863\n",
      "2    0.165647\n",
      "3    0.607373\n",
      "Name: Age, dtype: float64\n",
      "\n",
      "0    0.363219\n",
      "1   -0.410942\n",
      "2    1.646418\n",
      "3   -0.845744\n",
      "Name: Balance, dtype: float64\n",
      "0   -1.104315\n",
      "1   -0.773021\n",
      "2    1.822120\n",
      "3    0.000000\n",
      "Name: Age, dtype: float64\n"
     ]
    }
   ],
   "source": [
    "# смотрим, как должны выглядеть результаты\n",
    "print((toy_train['Balance'] - toy_train['Balance'].mean()) / (toy_train['Balance'].std() * 2))\n",
    "print((toy_train['Age'] - toy_train['Age'].mean()) / (toy_train['Age'].std() * 2))\n",
    "print('')\n",
    "print((toy_test['Balance'] - toy_train['Balance'].mean()) / (toy_train['Balance'].std() * 2))\n",
    "print((toy_test['Age'] - toy_train['Age'].mean()) / (toy_train['Age'].std() * 2))"
   ]
  },
  {
   "cell_type": "code",
   "execution_count": 44,
   "metadata": {},
   "outputs": [
    {
     "data": {
      "text/html": [
       "<div>\n",
       "<style scoped>\n",
       "    .dataframe tbody tr th:only-of-type {\n",
       "        vertical-align: middle;\n",
       "    }\n",
       "\n",
       "    .dataframe tbody tr th {\n",
       "        vertical-align: top;\n",
       "    }\n",
       "\n",
       "    .dataframe thead th {\n",
       "        text-align: right;\n",
       "    }\n",
       "</style>\n",
       "<table border=\"1\" class=\"dataframe\">\n",
       "  <thead>\n",
       "    <tr style=\"text-align: right;\">\n",
       "      <th></th>\n",
       "      <th>Balance</th>\n",
       "      <th>Age</th>\n",
       "    </tr>\n",
       "  </thead>\n",
       "  <tbody>\n",
       "    <tr>\n",
       "      <td>0</td>\n",
       "      <td>0.140516</td>\n",
       "      <td>-0.552158</td>\n",
       "    </tr>\n",
       "    <tr>\n",
       "      <td>1</td>\n",
       "      <td>0.257170</td>\n",
       "      <td>-0.220863</td>\n",
       "    </tr>\n",
       "    <tr>\n",
       "      <td>2</td>\n",
       "      <td>0.342009</td>\n",
       "      <td>0.165647</td>\n",
       "    </tr>\n",
       "    <tr>\n",
       "      <td>3</td>\n",
       "      <td>-0.739695</td>\n",
       "      <td>0.607373</td>\n",
       "    </tr>\n",
       "  </tbody>\n",
       "</table>\n",
       "</div>"
      ],
      "text/plain": [
       "    Balance       Age\n",
       "0  0.140516 -0.552158\n",
       "1  0.257170 -0.220863\n",
       "2  0.342009  0.165647\n",
       "3 -0.739695  0.607373"
      ]
     },
     "execution_count": 44,
     "metadata": {},
     "output_type": "execute_result"
    }
   ],
   "source": [
    "# применяем класс к датафреймам pandas\n",
    "scaler = CustomScaler(corr=True)\n",
    "scaler.fit(toy_train)\n",
    "toy_train = scaler.transform(toy_train)\n",
    "toy_test = scaler.transform(toy_test)\n",
    "\n",
    "# смотрим результат на игрушечном обучающем датафрейме\n",
    "toy_train"
   ]
  },
  {
   "cell_type": "code",
   "execution_count": 45,
   "metadata": {},
   "outputs": [
    {
     "name": "stdout",
     "output_type": "stream",
     "text": [
      "Balance 0.5\n",
      "Age 0.5\n"
     ]
    }
   ],
   "source": [
    "# взглянем на стандартные отклонения\n",
    "for col in toy_train.columns:\n",
    "    print(col, toy_train[col].std())"
   ]
  },
  {
   "cell_type": "code",
   "execution_count": 46,
   "metadata": {},
   "outputs": [
    {
     "data": {
      "text/html": [
       "<div>\n",
       "<style scoped>\n",
       "    .dataframe tbody tr th:only-of-type {\n",
       "        vertical-align: middle;\n",
       "    }\n",
       "\n",
       "    .dataframe tbody tr th {\n",
       "        vertical-align: top;\n",
       "    }\n",
       "\n",
       "    .dataframe thead th {\n",
       "        text-align: right;\n",
       "    }\n",
       "</style>\n",
       "<table border=\"1\" class=\"dataframe\">\n",
       "  <thead>\n",
       "    <tr style=\"text-align: right;\">\n",
       "      <th></th>\n",
       "      <th>Balance</th>\n",
       "      <th>Age</th>\n",
       "    </tr>\n",
       "  </thead>\n",
       "  <tbody>\n",
       "    <tr>\n",
       "      <td>0</td>\n",
       "      <td>0.363219</td>\n",
       "      <td>-1.104315</td>\n",
       "    </tr>\n",
       "    <tr>\n",
       "      <td>1</td>\n",
       "      <td>-0.410942</td>\n",
       "      <td>-0.773021</td>\n",
       "    </tr>\n",
       "    <tr>\n",
       "      <td>2</td>\n",
       "      <td>1.646418</td>\n",
       "      <td>1.822120</td>\n",
       "    </tr>\n",
       "    <tr>\n",
       "      <td>3</td>\n",
       "      <td>-0.845744</td>\n",
       "      <td>0.000000</td>\n",
       "    </tr>\n",
       "  </tbody>\n",
       "</table>\n",
       "</div>"
      ],
      "text/plain": [
       "    Balance       Age\n",
       "0  0.363219 -1.104315\n",
       "1 -0.410942 -0.773021\n",
       "2  1.646418  1.822120\n",
       "3 -0.845744  0.000000"
      ]
     },
     "execution_count": 46,
     "metadata": {},
     "output_type": "execute_result"
    }
   ],
   "source": [
    "# смотрим результат на игрушечном тестовом датафрейме\n",
    "toy_test"
   ]
  },
  {
   "cell_type": "code",
   "execution_count": 47,
   "metadata": {},
   "outputs": [],
   "source": [
    "X = np.random.uniform(low=100, high=130, size=1000000)\n",
    "X_numpy = X.reshape([10000,100])\n",
    "X_pandas = pd.DataFrame(X_numpy)\n",
    "scaler = CustomScaler()"
   ]
  },
  {
   "cell_type": "code",
   "execution_count": 48,
   "metadata": {},
   "outputs": [
    {
     "name": "stdout",
     "output_type": "stream",
     "text": [
      "10.2 ms ± 804 µs per loop (mean ± std. dev. of 7 runs, 100 loops each)\n"
     ]
    }
   ],
   "source": [
    "%timeit scaler.fit(X_numpy)"
   ]
  },
  {
   "cell_type": "code",
   "execution_count": 49,
   "metadata": {},
   "outputs": [
    {
     "name": "stdout",
     "output_type": "stream",
     "text": [
      "7.27 ms ± 323 µs per loop (mean ± std. dev. of 7 runs, 100 loops each)\n"
     ]
    }
   ],
   "source": [
    "%timeit scaler.transform(X_numpy)"
   ]
  },
  {
   "cell_type": "code",
   "execution_count": 50,
   "metadata": {},
   "outputs": [],
   "source": [
    "import numba as nb"
   ]
  },
  {
   "cell_type": "code",
   "execution_count": 51,
   "metadata": {},
   "outputs": [],
   "source": [
    "from numba import jit"
   ]
  },
  {
   "cell_type": "code",
   "execution_count": 52,
   "metadata": {},
   "outputs": [],
   "source": [
    "@nb.jit(nopython=True)\n",
    "def nb_mean(arr):\n",
    "    return np.sum(arr) / len(arr)"
   ]
  },
  {
   "cell_type": "code",
   "execution_count": 53,
   "metadata": {},
   "outputs": [],
   "source": [
    "@nb.jit(nopython=True)\n",
    "def nb_std(arr):\n",
    "    l = arr.shape[0]\n",
    "    mean = nb_mean(arr)\n",
    "    sumsq = 0.0\n",
    "    for i in range(l):\n",
    "        sumsq += (arr[i] - mean) ** 2\n",
    "    result = np.sqrt(sumsq / (l - 1))\n",
    "    return result    "
   ]
  },
  {
   "cell_type": "code",
   "execution_count": 54,
   "metadata": {},
   "outputs": [],
   "source": [
    "arr = np.array([2.0, 4.0, 6.0])"
   ]
  },
  {
   "cell_type": "code",
   "execution_count": 55,
   "metadata": {},
   "outputs": [
    {
     "data": {
      "text/plain": [
       "2.0"
      ]
     },
     "execution_count": 55,
     "metadata": {},
     "output_type": "execute_result"
    }
   ],
   "source": [
    "np.std(arr, ddof=1)"
   ]
  },
  {
   "cell_type": "code",
   "execution_count": 56,
   "metadata": {},
   "outputs": [
    {
     "data": {
      "text/plain": [
       "2.0"
      ]
     },
     "execution_count": 56,
     "metadata": {},
     "output_type": "execute_result"
    }
   ],
   "source": [
    "nb_std(arr)"
   ]
  },
  {
   "cell_type": "code",
   "execution_count": 57,
   "metadata": {},
   "outputs": [],
   "source": [
    "# создаем собственный класс, выполняющий стандартизацию\n",
    "class CustomScalerNumba(BaseEstimator, TransformerMixin):\n",
    "    def __init__(self, copy=True, corr=False):\n",
    "        self.copy = copy\n",
    "        self.corr = corr\n",
    "        \n",
    "    def __is_numpy(self, X):\n",
    "        # частный метод, который с помощью функции isinstance()\n",
    "        # проверяет, является ли наш объект массивом NumPy\n",
    "        return isinstance(X, np.ndarray)    \n",
    "    \n",
    "    def fit(self, X, y=None):\n",
    "        self.mean_dict = {}\n",
    "        self.std_dict = {}\n",
    "        \n",
    "        # если 1D-массив, то переводим в 2D\n",
    "        if len(X.shape) == 1:\n",
    "            X = X.reshape(-1, 1)\n",
    "             \n",
    "        # записываем результат __is_numpy()\n",
    "        is_np = self.__is_numpy(X)\n",
    "        \n",
    "        # если объект - массив NumPy, выполняем следующие действия:\n",
    "        if is_np:\n",
    "            # записываем количество столбцов\n",
    "            ncols = X.shape[1]\n",
    "            # по каждому столбцу массива NumPy\n",
    "            for col in range(ncols):\n",
    "                # вычисляем среднее\n",
    "                self.mean_dict[col] = nb_mean(X[:, col])\n",
    "                # вычисляем стандартное отклонение\n",
    "                self.std_dict[col] = nb_std(X[:, col])\n",
    "                if self.corr:\n",
    "                    self.std_dict[col] = nb_std(X[:, col]) * 2\n",
    "                \n",
    "        else:\n",
    "            # записываем список столбцов\n",
    "            num_columns = dtypes[X.dtypes != 'object'].index\n",
    "            # по каждому столбцу датафрейма pandas\n",
    "            for col in num_columns:\n",
    "                # вычисляем среднее\n",
    "                self.mean_dict[col] = X[col].mean()\n",
    "                # вычисляем стандартное отклонение\n",
    "                self.std_dict[col] = X[col].std()\n",
    "                if self.corr:\n",
    "                    self.std_dict[col] = X[col].std() * 2\n",
    "                \n",
    "            \n",
    "        return self\n",
    "    \n",
    "    def transform(self, X):\n",
    "        \n",
    "        if self.copy:\n",
    "            X = X.copy()\n",
    "            \n",
    "        # если 1D-массив, то переводим в 2D\n",
    "        if len(X.shape) == 1:\n",
    "            X = X.reshape(-1, 1)\n",
    "        \n",
    "        # записываем результат __is_numpy()\n",
    "        is_np = self.__is_numpy(X)\n",
    "            \n",
    "        # если объект - массив NumPy, выполняем следующие действия:\n",
    "        if is_np:\n",
    "            # записываем количество столбцов\n",
    "            ncols = X.shape[1]\n",
    "            # по каждому столбцу массива NumPy\n",
    "            \n",
    "            for col in range(ncols):\n",
    "                # выполняем стандартизацию\n",
    "                X[:, col] = (X[:, col] - self.mean_dict[col]) / self.std_dict[col]\n",
    "        \n",
    "        else:\n",
    "            # записываем список столбцов\n",
    "            num_columns = dtypes[X.dtypes != 'object'].index\n",
    "            # по каждому столбцу датафрейма pandas\n",
    "            for col in num_columns:\n",
    "                # выполняем стандартизацию\n",
    "                X[col] = (X[col] - self.mean_dict[col]) / self.std_dict[col]\n",
    "                \n",
    "        return X"
   ]
  },
  {
   "cell_type": "code",
   "execution_count": 58,
   "metadata": {},
   "outputs": [],
   "source": [
    "numbascaler = CustomScalerNumba()"
   ]
  },
  {
   "cell_type": "code",
   "execution_count": 59,
   "metadata": {},
   "outputs": [
    {
     "name": "stdout",
     "output_type": "stream",
     "text": [
      "4.47 ms ± 147 µs per loop (mean ± std. dev. of 7 runs, 100 loops each)\n"
     ]
    }
   ],
   "source": [
    "%timeit numbascaler.fit(X_numpy)"
   ]
  },
  {
   "cell_type": "code",
   "execution_count": 60,
   "metadata": {},
   "outputs": [
    {
     "name": "stdout",
     "output_type": "stream",
     "text": [
      "7.36 ms ± 219 µs per loop (mean ± std. dev. of 7 runs, 100 loops each)\n"
     ]
    }
   ],
   "source": [
    "%timeit numbascaler.transform(X_numpy)"
   ]
  },
  {
   "cell_type": "code",
   "execution_count": 61,
   "metadata": {},
   "outputs": [],
   "source": [
    "# создаем игрушечный обучающий массив NumPy\n",
    "np_toy_train = np.array(pd.DataFrame({'Balance': [8.3, 9.4, 10.2, 0], \n",
    "                                      'Age': [23, 29, 36, 44]}))\n",
    "\n",
    "# создаем игрушечный тестовый массив NumPy\n",
    "np_toy_test = np.array(pd.DataFrame({'Balance': [10.4, 3.1, 22.5, -1], \n",
    "                                     'Age': [13, 19, 66, 33]}))"
   ]
  },
  {
   "cell_type": "code",
   "execution_count": 62,
   "metadata": {},
   "outputs": [],
   "source": [
    "# применяем класс к массивам NumPy\n",
    "numbascaler.fit(np_toy_train)\n",
    "np_toy_train = numbascaler.transform(np_toy_train)\n",
    "np_toy_test = numbascaler.transform(np_toy_test)"
   ]
  },
  {
   "cell_type": "code",
   "execution_count": 63,
   "metadata": {},
   "outputs": [
    {
     "data": {
      "text/plain": [
       "array([[ 0.28103104, -1.10431526],\n",
       "       [ 0.51433982, -0.4417261 ],\n",
       "       [ 0.68401894,  0.33129458],\n",
       "       [-1.4793898 ,  1.21474679]])"
      ]
     },
     "execution_count": 63,
     "metadata": {},
     "output_type": "execute_result"
    }
   ],
   "source": [
    "np_toy_train"
   ]
  },
  {
   "cell_type": "code",
   "execution_count": 64,
   "metadata": {},
   "outputs": [
    {
     "data": {
      "text/plain": [
       "array([[ 0.72643872, -2.20863052],\n",
       "       [-0.82188322, -1.54604137],\n",
       "       [ 3.29283537,  3.64424036],\n",
       "       [-1.6914887 ,  0.        ]])"
      ]
     },
     "execution_count": 64,
     "metadata": {},
     "output_type": "execute_result"
    }
   ],
   "source": [
    "np_toy_test"
   ]
  },
  {
   "cell_type": "code",
   "execution_count": 65,
   "metadata": {},
   "outputs": [],
   "source": [
    "class StepanStandartizator:\n",
    "\n",
    "    def __init__(self, copy=True):\n",
    "        self._standardizer_dict = {}\n",
    "        self.copy = copy\n",
    "\n",
    "    @staticmethod\n",
    "    def __is_numpy(x):\n",
    "        return isinstance(x, np.ndarray)\n",
    "\n",
    "    def fit(self, x, y=None):\n",
    "\n",
    "        # Пустой список, который будет заполняться парами выборочных средних и \n",
    "        # несмещенных выборочных дисперсий\n",
    "        # Флаг массива Numpy\n",
    "        is_np = self.__is_numpy(x)\n",
    "\n",
    "        # Гарантия двумерного массива\n",
    "        if len(x.shape) == 1:\n",
    "            x = x.reshape(-1, 1)\n",
    "\n",
    "        # Число столбцов\n",
    "        ncols = x.shape[1]\n",
    "\n",
    "        # Ветвление, возвращает пару выборочное среднее - несмещенная дисперсия \n",
    "        # Для numpy.ndarray или pd.DataFrame\n",
    "        if is_np:\n",
    "            for col in range(ncols):\n",
    "                self._standardizer_dict[col] = [np.mean(x[:, col]), np.nanvar(x[:, col], ddof=0)]\n",
    "        else:\n",
    "            for col in x.columns:\n",
    "                self._standardizer_dict[col] = [x[col].mean(), x[col].var()]\n",
    "\n",
    "        return self\n",
    "\n",
    "    def transform(self, x):\n",
    "\n",
    "        if self.copy:\n",
    "            x = x.copy()\n",
    "\n",
    "        is_np = self.__is_numpy(x)\n",
    "\n",
    "        # Гарантия двумерного массива\n",
    "        if len(x.shape) == 1:\n",
    "            x = x.reshape(-1, 1)\n",
    "\n",
    "        nrows = x.shape[0]\n",
    "        # Число столбцов\n",
    "        ncols = x.shape[1]\n",
    "        if is_np:\n",
    "            for col in range(ncols):\n",
    "                for row in range(nrows):\n",
    "                    x[row, col] = (x[row, col] - self._standardizer_dict[col][0]) / np.sqrt(\n",
    "                        self._standardizer_dict[col][1])\n",
    "        else:\n",
    "            for col in x.columns:\n",
    "                for row in range(nrows):\n",
    "                    x.iloc[row, col] = (x.iloc[row, col] - self._standardizer_dict[col][0]) / np.sqrt(\n",
    "                        self._standardizer_dict[col][1])\n",
    "\n",
    "        return x"
   ]
  },
  {
   "cell_type": "code",
   "execution_count": 66,
   "metadata": {},
   "outputs": [],
   "source": [
    "# создаем игрушечный обучающий массив NumPy\n",
    "np_toy_train = np.array(pd.DataFrame({'Balance': [8.3, 9.4, 10.2, 0], \n",
    "                                      'Age': [23, 29, 36, 44]}))\n",
    "\n",
    "# создаем игрушечный тестовый массив NumPy\n",
    "np_toy_test = np.array(pd.DataFrame({'Balance': [10.4, 3.1, 22.5, -1], \n",
    "                                     'Age': [13, 19, 66, 33]}))"
   ]
  },
  {
   "cell_type": "code",
   "execution_count": 67,
   "metadata": {},
   "outputs": [],
   "source": [
    "# применяем класс к массивам NumPy\n",
    "stepanscaler = StepanStandartizator()\n",
    "stepanscaler.fit(np_toy_train)\n",
    "np_toy_train = stepanscaler.transform(np_toy_train)\n",
    "np_toy_test = stepanscaler.transform(np_toy_test)"
   ]
  },
  {
   "cell_type": "code",
   "execution_count": 68,
   "metadata": {},
   "outputs": [
    {
     "data": {
      "text/plain": [
       "array([[ 0.32450669, -1.27515343],\n",
       "       [ 0.59390847, -0.51006137],\n",
       "       [ 0.78983704,  0.38254603],\n",
       "       [-1.7082522 ,  1.40266877]])"
      ]
     },
     "execution_count": 68,
     "metadata": {},
     "output_type": "execute_result"
    }
   ],
   "source": [
    "# смотрим результат на игрушечном \n",
    "# обучающем массиве NumPy\n",
    "np_toy_train"
   ]
  },
  {
   "cell_type": "code",
   "execution_count": 69,
   "metadata": {},
   "outputs": [
    {
     "data": {
      "text/plain": [
       "array([[ 0.83881918, -2.55030685],\n",
       "       [-0.949029  , -1.7852148 ],\n",
       "       [ 3.80223877,  4.20800631],\n",
       "       [-1.95316291,  0.        ]])"
      ]
     },
     "execution_count": 69,
     "metadata": {},
     "output_type": "execute_result"
    }
   ],
   "source": [
    "np_toy_test"
   ]
  },
  {
   "cell_type": "code",
   "execution_count": null,
   "metadata": {},
   "outputs": [],
   "source": []
  }
 ],
 "metadata": {
  "kernelspec": {
   "display_name": "Python 3",
   "language": "python",
   "name": "python3"
  },
  "language_info": {
   "codemirror_mode": {
    "name": "ipython",
    "version": 3
   },
   "file_extension": ".py",
   "mimetype": "text/x-python",
   "name": "python",
   "nbconvert_exporter": "python",
   "pygments_lexer": "ipython3",
   "version": "3.7.4"
  }
 },
 "nbformat": 4,
 "nbformat_minor": 2
}
