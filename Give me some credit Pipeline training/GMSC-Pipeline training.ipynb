{
 "cells": [
  {
   "cell_type": "code",
   "execution_count": 2,
   "metadata": {},
   "outputs": [],
   "source": [
    "import pandas as pd\n",
    "import numpy as np\n",
    "\n",
    "from sklearn.model_selection import cross_val_score\n",
    "from sklearn.preprocessing import PowerTransformer, StandardScaler, FunctionTransformer, KBinsDiscretizer\n",
    "from sklearn.compose import ColumnTransformer\n",
    "from sklearn.linear_model import LogisticRegression\n",
    "from sklearn.pipeline import Pipeline\n",
    "from sklearn.impute import SimpleImputer\n",
    "from lightgbm import LGBMRegressor, LGBMClassifier\n",
    "import plotly.express as px\n",
    "from plotly.subplots import make_subplots\n",
    "from numba import jit"
   ]
  },
  {
   "cell_type": "code",
   "execution_count": 30,
   "metadata": {},
   "outputs": [],
   "source": [
    "# Чтение/переименование\n",
    "\n",
    "def read_rename(filename):\n",
    "    df = pd.read_csv(filename,index_col='Unnamed: 0')\n",
    "    df.rename(columns={'SeriousDlqin2yrs':'Credit delay', 'age':'Age', \n",
    "                         'RevolvingUtilizationOfUnsecuredLines':'BalanceCreditRate', \n",
    "                         'NumberOfTime30-59DaysPastDueNotWorse':'Delay 30-59', 'DebtRatio':'IncomeDebtRatio', \n",
    "                         'MonthlyIncome':'Income', 'NumberOfOpenCreditLinesAndLoans':'NumberOpenCredit', \n",
    "                         'NumberOfTimes90DaysLate':'Delay >90',\n",
    "                         'NumberOfTime60-89DaysPastDueNotWorse':'Delay 60-89',\n",
    "                         'NumberRealEstateLoansOrLines':'IpotekaNum', 'NumberOfDependents':'Kids'},\n",
    "               inplace=True)\n",
    "    return df"
   ]
  },
  {
   "cell_type": "code",
   "execution_count": 31,
   "metadata": {},
   "outputs": [],
   "source": [
    "df_train = read_rename('cs-training.csv')"
   ]
  },
  {
   "cell_type": "code",
   "execution_count": 32,
   "metadata": {},
   "outputs": [
    {
     "name": "stdout",
     "output_type": "stream",
     "text": [
      "<class 'pandas.core.frame.DataFrame'>\n",
      "Int64Index: 150000 entries, 1 to 150000\n",
      "Data columns (total 11 columns):\n",
      "Credit delay         150000 non-null int64\n",
      "BalanceCreditRate    150000 non-null float64\n",
      "Age                  150000 non-null int64\n",
      "Delay 30-59          150000 non-null int64\n",
      "IncomeDebtRatio      150000 non-null float64\n",
      "Income               120269 non-null float64\n",
      "NumberOpenCredit     150000 non-null int64\n",
      "Delay >90            150000 non-null int64\n",
      "IpotekaNum           150000 non-null int64\n",
      "Delay 60-89          150000 non-null int64\n",
      "Kids                 146076 non-null float64\n",
      "dtypes: float64(4), int64(7)\n",
      "memory usage: 13.7 MB\n"
     ]
    }
   ],
   "source": [
    "df_train.info()"
   ]
  },
  {
   "cell_type": "markdown",
   "metadata": {},
   "source": [
    "#### Оценим распределение данных."
   ]
  },
  {
   "cell_type": "code",
   "execution_count": 33,
   "metadata": {},
   "outputs": [
    {
     "data": {
      "text/html": [
       "<div>\n",
       "<style scoped>\n",
       "    .dataframe tbody tr th:only-of-type {\n",
       "        vertical-align: middle;\n",
       "    }\n",
       "\n",
       "    .dataframe tbody tr th {\n",
       "        vertical-align: top;\n",
       "    }\n",
       "\n",
       "    .dataframe thead th {\n",
       "        text-align: right;\n",
       "    }\n",
       "</style>\n",
       "<table border=\"1\" class=\"dataframe\">\n",
       "  <thead>\n",
       "    <tr style=\"text-align: right;\">\n",
       "      <th></th>\n",
       "      <th>Credit delay</th>\n",
       "      <th>BalanceCreditRate</th>\n",
       "      <th>Age</th>\n",
       "      <th>Delay 30-59</th>\n",
       "      <th>IncomeDebtRatio</th>\n",
       "      <th>Income</th>\n",
       "      <th>NumberOpenCredit</th>\n",
       "      <th>Delay &gt;90</th>\n",
       "      <th>IpotekaNum</th>\n",
       "      <th>Delay 60-89</th>\n",
       "      <th>Kids</th>\n",
       "    </tr>\n",
       "  </thead>\n",
       "  <tbody>\n",
       "    <tr>\n",
       "      <th>count</th>\n",
       "      <td>150000.000000</td>\n",
       "      <td>150000.000000</td>\n",
       "      <td>150000.000000</td>\n",
       "      <td>150000.000000</td>\n",
       "      <td>150000.000000</td>\n",
       "      <td>1.202690e+05</td>\n",
       "      <td>150000.000000</td>\n",
       "      <td>150000.000000</td>\n",
       "      <td>150000.000000</td>\n",
       "      <td>150000.000000</td>\n",
       "      <td>146076.000000</td>\n",
       "    </tr>\n",
       "    <tr>\n",
       "      <th>mean</th>\n",
       "      <td>0.066840</td>\n",
       "      <td>6.048438</td>\n",
       "      <td>52.295207</td>\n",
       "      <td>0.421033</td>\n",
       "      <td>353.005076</td>\n",
       "      <td>6.670221e+03</td>\n",
       "      <td>8.452760</td>\n",
       "      <td>0.265973</td>\n",
       "      <td>1.018240</td>\n",
       "      <td>0.240387</td>\n",
       "      <td>0.757222</td>\n",
       "    </tr>\n",
       "    <tr>\n",
       "      <th>std</th>\n",
       "      <td>0.249746</td>\n",
       "      <td>249.755371</td>\n",
       "      <td>14.771866</td>\n",
       "      <td>4.192781</td>\n",
       "      <td>2037.818523</td>\n",
       "      <td>1.438467e+04</td>\n",
       "      <td>5.145951</td>\n",
       "      <td>4.169304</td>\n",
       "      <td>1.129771</td>\n",
       "      <td>4.155179</td>\n",
       "      <td>1.115086</td>\n",
       "    </tr>\n",
       "    <tr>\n",
       "      <th>min</th>\n",
       "      <td>0.000000</td>\n",
       "      <td>0.000000</td>\n",
       "      <td>0.000000</td>\n",
       "      <td>0.000000</td>\n",
       "      <td>0.000000</td>\n",
       "      <td>0.000000e+00</td>\n",
       "      <td>0.000000</td>\n",
       "      <td>0.000000</td>\n",
       "      <td>0.000000</td>\n",
       "      <td>0.000000</td>\n",
       "      <td>0.000000</td>\n",
       "    </tr>\n",
       "    <tr>\n",
       "      <th>25%</th>\n",
       "      <td>0.000000</td>\n",
       "      <td>0.029867</td>\n",
       "      <td>41.000000</td>\n",
       "      <td>0.000000</td>\n",
       "      <td>0.175074</td>\n",
       "      <td>3.400000e+03</td>\n",
       "      <td>5.000000</td>\n",
       "      <td>0.000000</td>\n",
       "      <td>0.000000</td>\n",
       "      <td>0.000000</td>\n",
       "      <td>0.000000</td>\n",
       "    </tr>\n",
       "    <tr>\n",
       "      <th>50%</th>\n",
       "      <td>0.000000</td>\n",
       "      <td>0.154181</td>\n",
       "      <td>52.000000</td>\n",
       "      <td>0.000000</td>\n",
       "      <td>0.366508</td>\n",
       "      <td>5.400000e+03</td>\n",
       "      <td>8.000000</td>\n",
       "      <td>0.000000</td>\n",
       "      <td>1.000000</td>\n",
       "      <td>0.000000</td>\n",
       "      <td>0.000000</td>\n",
       "    </tr>\n",
       "    <tr>\n",
       "      <th>75%</th>\n",
       "      <td>0.000000</td>\n",
       "      <td>0.559046</td>\n",
       "      <td>63.000000</td>\n",
       "      <td>0.000000</td>\n",
       "      <td>0.868254</td>\n",
       "      <td>8.249000e+03</td>\n",
       "      <td>11.000000</td>\n",
       "      <td>0.000000</td>\n",
       "      <td>2.000000</td>\n",
       "      <td>0.000000</td>\n",
       "      <td>1.000000</td>\n",
       "    </tr>\n",
       "    <tr>\n",
       "      <th>max</th>\n",
       "      <td>1.000000</td>\n",
       "      <td>50708.000000</td>\n",
       "      <td>109.000000</td>\n",
       "      <td>98.000000</td>\n",
       "      <td>329664.000000</td>\n",
       "      <td>3.008750e+06</td>\n",
       "      <td>58.000000</td>\n",
       "      <td>98.000000</td>\n",
       "      <td>54.000000</td>\n",
       "      <td>98.000000</td>\n",
       "      <td>20.000000</td>\n",
       "    </tr>\n",
       "  </tbody>\n",
       "</table>\n",
       "</div>"
      ],
      "text/plain": [
       "        Credit delay  BalanceCreditRate            Age    Delay 30-59  \\\n",
       "count  150000.000000      150000.000000  150000.000000  150000.000000   \n",
       "mean        0.066840           6.048438      52.295207       0.421033   \n",
       "std         0.249746         249.755371      14.771866       4.192781   \n",
       "min         0.000000           0.000000       0.000000       0.000000   \n",
       "25%         0.000000           0.029867      41.000000       0.000000   \n",
       "50%         0.000000           0.154181      52.000000       0.000000   \n",
       "75%         0.000000           0.559046      63.000000       0.000000   \n",
       "max         1.000000       50708.000000     109.000000      98.000000   \n",
       "\n",
       "       IncomeDebtRatio        Income  NumberOpenCredit      Delay >90  \\\n",
       "count    150000.000000  1.202690e+05     150000.000000  150000.000000   \n",
       "mean        353.005076  6.670221e+03          8.452760       0.265973   \n",
       "std        2037.818523  1.438467e+04          5.145951       4.169304   \n",
       "min           0.000000  0.000000e+00          0.000000       0.000000   \n",
       "25%           0.175074  3.400000e+03          5.000000       0.000000   \n",
       "50%           0.366508  5.400000e+03          8.000000       0.000000   \n",
       "75%           0.868254  8.249000e+03         11.000000       0.000000   \n",
       "max      329664.000000  3.008750e+06         58.000000      98.000000   \n",
       "\n",
       "          IpotekaNum    Delay 60-89           Kids  \n",
       "count  150000.000000  150000.000000  146076.000000  \n",
       "mean        1.018240       0.240387       0.757222  \n",
       "std         1.129771       4.155179       1.115086  \n",
       "min         0.000000       0.000000       0.000000  \n",
       "25%         0.000000       0.000000       0.000000  \n",
       "50%         1.000000       0.000000       0.000000  \n",
       "75%         2.000000       0.000000       1.000000  \n",
       "max        54.000000      98.000000      20.000000  "
      ]
     },
     "execution_count": 33,
     "metadata": {},
     "output_type": "execute_result"
    }
   ],
   "source": [
    "df_train.describe()"
   ]
  },
  {
   "cell_type": "markdown",
   "metadata": {},
   "source": [
    "#### Оценим распределения значений переменных.\n",
    "К сожалению, от plotly на больших выборках все виснет, поэтому приведу скрины распределений переменных.\n",
    "<div style='display:flex flex-wrap:wrap flex-direction: row'>\n",
    "    <img src='img/3059.png' style=\"width:75%\">\n",
    "    <img src='img/6089.png' style=\"width:75%\">\n",
    "    <img src='img/age.png' style=\"width:75%\">\n",
    "    <img src='img/balance-credit.png' style=\"width:75%\">\n",
    "    <img src='img/countipotek.png' style=\"width:75%\">\n",
    "    <img src='img/income.png' style=\"width:75%\">\n",
    "    <img src='img/income-cost.png' style=\"width:75%\">\n",
    "    <img src='img/kids.png' style=\"width:75%\">\n",
    "    <img src='img/open credit.png' style=\"width:75%\">\n",
    "    <img src='img/over90.png' style=\"width:75%\">\n",
    "</div>"
   ]
  },
  {
   "cell_type": "code",
   "execution_count": 36,
   "metadata": {},
   "outputs": [
    {
     "name": "stdout",
     "output_type": "stream",
     "text": [
      "Средняя AUC ROC на обучении по перекрестной проверке: 0.698\n"
     ]
    }
   ],
   "source": [
    "# Конвейер\n",
    "conveyor = Pipeline([('imputation', SimpleImputer(strategy='median')),\n",
    "                    ('powertrans', StandardScaler()),\n",
    "                    ('classifier', \n",
    "                     LogisticRegression(penalty='l2', solver='lbfgs', C=1, random_state=0, max_iter=2000))])\n",
    "\n",
    "# Кросс-валидация \n",
    "cv_avg = cross_val_score(conveyor, \n",
    "                         df_train.drop(columns='Credit delay'), \n",
    "                         df_train['Credit delay'],\n",
    "                         scoring='roc_auc', \n",
    "                         cv=3).mean()\n",
    "\n",
    "print('Средняя AUC ROC на обучении по перекрестной проверке: {:.3f}'.format(cv_avg))"
   ]
  },
  {
   "cell_type": "code",
   "execution_count": 38,
   "metadata": {
    "scrolled": false
   },
   "outputs": [
    {
     "name": "stdout",
     "output_type": "stream",
     "text": [
      "Средняя AUC ROC на обучении по перекрестной проверке: 0.851\n"
     ]
    }
   ],
   "source": [
    "# Конвейер\n",
    "conveyor = Pipeline([('imputation', SimpleImputer()),\n",
    "                    ('powertrans', PowerTransformer()),\n",
    "                    ('classifier', LogisticRegression(penalty='l2', solver='lbfgs', C=1, random_state=0, max_iter=2000))])\n",
    "\n",
    "# Кросс-валидация \n",
    "cv_avg = cross_val_score(conveyor, \n",
    "                         df_train.drop(columns='Credit delay'), \n",
    "                         df_train['Credit delay'],\n",
    "                         scoring='roc_auc', \n",
    "                         cv=3).mean()\n",
    "\n",
    "print('Средняя AUC ROC на обучении по перекрестной проверке: {:.3f}'.format(cv_avg))"
   ]
  },
  {
   "cell_type": "markdown",
   "metadata": {},
   "source": [
    "`PowerTransformer()` из коробки дал значительный прирост - `+0.153` к AUC ROC по сравнению с простой стандартизацией.\n",
    "\n",
    "Попробуем более детальный подход к преобразованию данных, уточним его для каждого отдельного столбца. В зависимости от коэффициента ассиметрии применим адекватный по силе метод преобразования. \n",
    "Но прежде, вычислим коеффициенты ассиметрии для каждого предиктора."
   ]
  },
  {
   "cell_type": "code",
   "execution_count": 39,
   "metadata": {},
   "outputs": [
    {
     "data": {
      "text/plain": [
       "Credit delay           3.468857\n",
       "BalanceCreditRate     97.631574\n",
       "Age                    0.188995\n",
       "Delay 30-59           22.597108\n",
       "IncomeDebtRatio       95.157793\n",
       "Income               114.040318\n",
       "NumberOpenCredit       1.215314\n",
       "Delay >90             23.087345\n",
       "IpotekaNum             3.482484\n",
       "Delay 60-89           23.331743\n",
       "Kids                   1.588242\n",
       "dtype: float64"
      ]
     },
     "execution_count": 39,
     "metadata": {},
     "output_type": "execute_result"
    }
   ],
   "source": [
    "df_train.skew(axis=0, skipna=True)"
   ]
  },
  {
   "cell_type": "markdown",
   "metadata": {},
   "source": [
    "Выделяются четыре группы:\n",
    "<ul>\n",
    "    <li>\"Возраст\" - самая \"нормальная\" переменная, слегка скошена вправо.<br>Для нее оставим преобразование Йео-Джонсона, <br>так как она не обладает большим потенциалом улучшения</li>\n",
    "    <li>\"Иждивенцы\", \"Число ипотек\", \"Число открытых кредитов\" явно скошены вправо, но хвосты не очень тяжелые. <br>Эти переменные преобразуем извлечением квадратного корня.</li>\n",
    "    <li>\"Просрочки 30-50\", \"Просрочки 60-89\", \"Просрочки >90\" сильно скошены вправо и хвосты значительны по масштабам. <br>Эти переменные преобразуем логарифмированием.</li>\n",
    "    <li>\"Доход\" и \"Отношение доходы-расходы\" значительно скошены вправо, хвосты удаляются от медиан на много порядков. <br>Для этих предикторов выполним преобразование обращением</li>\n",
    "</ul>\n",
    "    "
   ]
  },
  {
   "cell_type": "code",
   "execution_count": 40,
   "metadata": {},
   "outputs": [
    {
     "data": {
      "text/plain": [
       "Index(['Credit delay', 'BalanceCreditRate', 'Age', 'Delay 30-59',\n",
       "       'IncomeDebtRatio', 'Income', 'NumberOpenCredit', 'Delay >90',\n",
       "       'IpotekaNum', 'Delay 60-89', 'Kids'],\n",
       "      dtype='object')"
      ]
     },
     "execution_count": 40,
     "metadata": {},
     "output_type": "execute_result"
    }
   ],
   "source": [
    "df_train.columns"
   ]
  },
  {
   "cell_type": "code",
   "execution_count": 45,
   "metadata": {
    "scrolled": false
   },
   "outputs": [
    {
     "name": "stdout",
     "output_type": "stream",
     "text": [
      "Средняя AUC ROC на обучении по перекрестной проверке: 0.800\n"
     ]
    }
   ],
   "source": [
    "# Создадим списки признаков по степени их ассиметрии\n",
    "semi_normal_column = ['Age']\n",
    "light_skewed_columns = ['Kids', 'IpotekaNum', 'NumberOpenCredit']\n",
    "medium_skewed_columns = ['Delay 30-59', 'Delay 30-59', 'Delay >90']\n",
    "hard_skewed_columns = ['Income', 'IncomeDebtRatio']\n",
    "\n",
    "# Определим функции преобразования и ускорим их Numb'ой\n",
    "@jit\n",
    "def square_root(x):\n",
    "    return np.sqrt(x)\n",
    "\n",
    "\n",
    "@jit\n",
    "def ln(x):\n",
    "    return np.log(x+1)\n",
    "\n",
    "\n",
    "@jit\n",
    "def root_4th_power(x):\n",
    "    return 1/(x+0.1)\n",
    "\n",
    "\n",
    "# Создадим конвейеры для соответствующих степеней ассиметрии\n",
    "semi_normal_pipe = Pipeline([('imputation', SimpleImputer(strategy='mean')),\n",
    "                             ('powertrans', PowerTransformer()),\n",
    "                             ('k-bins', KBinsDiscretizer(n_bins=5,strategy='kmeans', encode='onehot-dense'))])\n",
    "\n",
    "light_skewed_pipe = Pipeline([('imputation', SimpleImputer(strategy='median')),\n",
    "                    ('light_transform', FunctionTransformer(func=square_root, validate=True))])\n",
    "\n",
    "medium_skewed_pipe = Pipeline([('imputation', SimpleImputer(strategy='median')),\n",
    "                    ('medium_transform', FunctionTransformer(func=ln, validate=True))])\n",
    "\n",
    "hard_skewed_pipe = Pipeline([('imputation', SimpleImputer(strategy='median')),\n",
    "                    ('hard_transform', FunctionTransformer(func=root_4th_power, validate=True))])\n",
    "\n",
    "# Соберем все вместе в список перед подачей в ColumnTransformer()\n",
    "transformation_plan = [('semi-normal', semi_normal_pipe, semi_normal_column),\n",
    "                       ('light', light_skewed_pipe, light_skewed_columns),\n",
    "                       ('medium', medium_skewed_pipe, medium_skewed_columns),\n",
    "                       ('hard', hard_skewed_pipe, hard_skewed_columns)]\n",
    "\n",
    "transfromer = ColumnTransformer(transformers=transformation_plan)\n",
    "\n",
    "ml_pipe = Pipeline([('trafo', transfromer), ('lr', LogisticRegression(penalty='l2', \n",
    "                                                                      solver='lbfgs', \n",
    "                                                                      C=1, \n",
    "                                                                      random_state=0, \n",
    "                                                                      max_iter=2000))])\n",
    "\n",
    "# Кросс-валидация \n",
    "cv_avg = cross_val_score(ml_pipe, \n",
    "                         df_train.drop(columns='Credit delay'), \n",
    "                         df_train['Credit delay'],\n",
    "                         scoring='roc_auc', \n",
    "                         cv=3).mean()\n",
    "\n",
    "print('Средняя AUC ROC на обучении по перекрестной проверке: {:.3f}'.format(cv_avg))"
   ]
  },
  {
   "cell_type": "markdown",
   "metadata": {},
   "source": [
    "\"Персональная\" обработка данных по степени ассиметрии распределения не помогла, качество относительно чистого `PowerTransformer`'a упала. Проверим данные на мультиколлинеарность. Посчитаем VIF для предикторов"
   ]
  },
  {
   "cell_type": "code",
   "execution_count": 47,
   "metadata": {},
   "outputs": [
    {
     "name": "stdout",
     "output_type": "stream",
     "text": [
      "BalanceCreditRate     1.000364\n",
      "Age                   1.084436\n",
      "Delay 30-59          40.874960\n",
      "IncomeDebtRatio       1.019786\n",
      "Income                1.023441\n",
      "NumberOpenCredit      1.284064\n",
      "Delay >90            73.099495\n",
      "IpotekaNum            1.275401\n",
      "Delay 60-89          91.342035\n",
      "Kids                  1.076849\n",
      "dtype: float64\n"
     ]
    }
   ],
   "source": [
    "df_vif = df_train.drop(columns='Credit delay').corr()\n",
    "vifs = pd.Series(np.linalg.inv(df_vif.values).diagonal(), index=df_vif.index)\n",
    "print(vifs)"
   ]
  },
  {
   "cell_type": "markdown",
   "metadata": {},
   "source": [
    "Логично, что просрочки на разные периоды во много объясняют одну и ту же изменчивость в наборе данных. \n",
    "Удалим переменную с наибольшим фактором инфляции дисперсии - Просрочки более 90 дней"
   ]
  },
  {
   "cell_type": "code",
   "execution_count": 48,
   "metadata": {},
   "outputs": [
    {
     "name": "stdout",
     "output_type": "stream",
     "text": [
      "BalanceCreditRate     1.000364\n",
      "Age                   1.084232\n",
      "Delay 30-59          39.231900\n",
      "IncomeDebtRatio       1.019784\n",
      "Income                1.023422\n",
      "NumberOpenCredit      1.276255\n",
      "IpotekaNum            1.274947\n",
      "Delay 60-89          39.284704\n",
      "Kids                  1.076848\n",
      "dtype: float64\n"
     ]
    }
   ],
   "source": [
    "df_vif = df_train.drop(columns=['Credit delay', 'Delay >90']).corr()\n",
    "vifs = pd.Series(np.linalg.inv(df_vif.values).diagonal(), index=df_vif.index)\n",
    "print(vifs)"
   ]
  },
  {
   "cell_type": "markdown",
   "metadata": {},
   "source": [
    "Удалим вторую переменную - просрочки 60-89 дней"
   ]
  },
  {
   "cell_type": "code",
   "execution_count": 49,
   "metadata": {},
   "outputs": [
    {
     "name": "stdout",
     "output_type": "stream",
     "text": [
      "BalanceCreditRate    1.000363\n",
      "Age                  1.082718\n",
      "Delay 30-59          1.006395\n",
      "IncomeDebtRatio      1.019779\n",
      "Income               1.023395\n",
      "NumberOpenCredit     1.265936\n",
      "IpotekaNum           1.274776\n",
      "Kids                 1.075571\n",
      "dtype: float64\n"
     ]
    }
   ],
   "source": [
    "df_vif = df_train.drop(columns=['Credit delay', 'Delay >90', 'Delay 60-89']).corr()\n",
    "vifs = pd.Series(np.linalg.inv(df_vif.values).diagonal(), index=df_vif.index)\n",
    "print(vifs)"
   ]
  },
  {
   "cell_type": "markdown",
   "metadata": {},
   "source": [
    "Хотя в подмножестве переменных с просрочкой 30-59 дней уже нет мультиколлинеарности, проверим сделаем еще один эксперимент - уберем просрочки от 30 до 89 дней, а оставим просрочки свыше 90 дней. Мотивация - заемщики с тяжкими просрочками все-таки более склонны к дефолту."
   ]
  },
  {
   "cell_type": "code",
   "execution_count": 50,
   "metadata": {},
   "outputs": [
    {
     "name": "stdout",
     "output_type": "stream",
     "text": [
      "BalanceCreditRate    1.000363\n",
      "Age                  1.082203\n",
      "IncomeDebtRatio      1.019781\n",
      "Income               1.023394\n",
      "NumberOpenCredit     1.268458\n",
      "Delay >90            1.009390\n",
      "IpotekaNum           1.274862\n",
      "Kids                 1.075696\n",
      "dtype: float64\n"
     ]
    }
   ],
   "source": [
    "df_vif = df_train.drop(columns=['Credit delay', 'Delay 30-59','Delay 60-89']).corr()\n",
    "vifs = pd.Series(np.linalg.inv(df_vif.values).diagonal(), index=df_vif.index)\n",
    "print(vifs)"
   ]
  },
  {
   "cell_type": "markdown",
   "metadata": {},
   "source": [
    "Получили эквивалентный набор признаков в контексте мультиколлинеарности. Будем работать с ним. Воспользуемся первым универсальным конвейером."
   ]
  },
  {
   "cell_type": "code",
   "execution_count": 52,
   "metadata": {},
   "outputs": [
    {
     "name": "stdout",
     "output_type": "stream",
     "text": [
      "Средняя AUC ROC на обучении по перекрестной проверке: 0.824\n"
     ]
    }
   ],
   "source": [
    "# Конвейер\n",
    "conveyor = Pipeline([('imputation', SimpleImputer(strategy='median')),\n",
    "                    ('powertrans', PowerTransformer()),\n",
    "                    ('classifier', LogisticRegression(penalty='l2', \n",
    "                                                      solver='lbfgs', \n",
    "                                                      C=1, \n",
    "                                                      random_state=0, \n",
    "                                                      max_iter=2000))])\n",
    "\n",
    "# Кросс-валидация \n",
    "cv_avg = cross_val_score(conveyor, \n",
    "                         df_train.drop(columns=['Credit delay', 'Delay 30-59','Delay 60-89']), \n",
    "                         df_train['Credit delay'],\n",
    "                         scoring='roc_auc', \n",
    "                         cv=3).mean()\n",
    "\n",
    "print('Средняя AUC ROC на обучении по перекрестной проверке: {:.3f}'.format(cv_avg))"
   ]
  },
  {
   "cell_type": "markdown",
   "metadata": {},
   "source": [
    "Качество упало.  \n",
    "**Вопрос: Выходит, формальная мультиколлинеарность не всегда вредит данным?**  \n",
    "Актуальный результат для регрессии:  \n",
    "<p style='font-family: Courier New'>Средняя AUC ROC на обучении по перекрестной проверке: 0.851</p>\n"
   ]
  },
  {
   "cell_type": "markdown",
   "metadata": {},
   "source": [
    "## GBDT + Scopt\n",
    "\n",
    "Проверим LigthGBM классификатор из коробки"
   ]
  },
  {
   "cell_type": "code",
   "execution_count": 53,
   "metadata": {},
   "outputs": [],
   "source": [
    "from sklearn.model_selection import train_test_split\n",
    "\n",
    "train, test, y_train, y_split = train_test_split(df_train.drop(columns=['Credit delay']), \n",
    "                                                 df_train['Credit delay'], test_size=0.3,random_state=0)"
   ]
  },
  {
   "cell_type": "code",
   "execution_count": 55,
   "metadata": {},
   "outputs": [],
   "source": [
    "si = SimpleImputer(strategy='median')\n",
    "\n",
    "si.fit(train)\n",
    "test = si.transform(test)\n"
   ]
  },
  {
   "cell_type": "code",
   "execution_count": 56,
   "metadata": {},
   "outputs": [
    {
     "name": "stdout",
     "output_type": "stream",
     "text": [
      "Средняя AUC ROC на обучении по перекрестной проверке: 0.863\n"
     ]
    }
   ],
   "source": [
    "# Конвейер\n",
    "conveyor = Pipeline([('imputation', SimpleImputer(strategy='median')),\n",
    "                    ('classifier', LGBMClassifier(random_state=0)),\n",
    "                    ])\n",
    "\n",
    "# Кросс-валидация \n",
    "cv_avg = cross_val_score(conveyor, \n",
    "                         df_train.drop(columns=['Credit delay']), \n",
    "                         df_train['Credit delay'],\n",
    "                         scoring='roc_auc', \n",
    "                         cv=3).mean()\n",
    "\n",
    "print('Средняя AUC ROC на обучении по перекрестной проверке: {:.3f}'.format(cv_avg))"
   ]
  },
  {
   "cell_type": "markdown",
   "metadata": {},
   "source": [
    "Сразу лучше логистической регрессии на `0.012`. Теперь попробуем настроить LightGBMClassifier силами байесовской оптимизации"
   ]
  },
  {
   "cell_type": "code",
   "execution_count": 57,
   "metadata": {},
   "outputs": [],
   "source": [
    "from skopt import BayesSearchCV, gp_minimize\n",
    "from skopt.space import Real, Integer"
   ]
  },
  {
   "cell_type": "code",
   "execution_count": 71,
   "metadata": {},
   "outputs": [],
   "source": [
    "# Пространство значений гиперпараметров\n",
    "\n",
    "param_space = {\"n_estimators\":Integer(100, 1000),\n",
    "               \"learning_rate\":Real(0.0001, 0.1, prior='log-uniform'),\n",
    "               \"max_depth\":Integer(1,10),\n",
    "               \"subsample\":Real(0.1,1, prior='uniform'),\n",
    "               \"reg_alpha\":Real(0.0001, 1, prior='log-uniform'),\n",
    "              \"reg_lambda\":Real(0.0001, 1, prior='log-uniform')}"
   ]
  },
  {
   "cell_type": "code",
   "execution_count": 72,
   "metadata": {},
   "outputs": [],
   "source": [
    "bayopt = BayesSearchCV(LGBMClassifier(n_jobs=-1), param_space, n_iter=100, random_state=0, cv=3)"
   ]
  },
  {
   "cell_type": "code",
   "execution_count": 73,
   "metadata": {
    "scrolled": true
   },
   "outputs": [
    {
     "name": "stderr",
     "output_type": "stream",
     "text": [
      "D:\\miniconda\\lib\\site-packages\\skopt\\optimizer\\optimizer.py:399: UserWarning:\n",
      "\n",
      "The objective has been evaluated at this point before.\n",
      "\n",
      "D:\\miniconda\\lib\\site-packages\\skopt\\optimizer\\optimizer.py:399: UserWarning:\n",
      "\n",
      "The objective has been evaluated at this point before.\n",
      "\n",
      "D:\\miniconda\\lib\\site-packages\\skopt\\optimizer\\optimizer.py:399: UserWarning:\n",
      "\n",
      "The objective has been evaluated at this point before.\n",
      "\n",
      "D:\\miniconda\\lib\\site-packages\\skopt\\optimizer\\optimizer.py:399: UserWarning:\n",
      "\n",
      "The objective has been evaluated at this point before.\n",
      "\n",
      "D:\\miniconda\\lib\\site-packages\\skopt\\optimizer\\optimizer.py:399: UserWarning:\n",
      "\n",
      "The objective has been evaluated at this point before.\n",
      "\n",
      "D:\\miniconda\\lib\\site-packages\\skopt\\optimizer\\optimizer.py:399: UserWarning:\n",
      "\n",
      "The objective has been evaluated at this point before.\n",
      "\n",
      "D:\\miniconda\\lib\\site-packages\\skopt\\optimizer\\optimizer.py:399: UserWarning:\n",
      "\n",
      "The objective has been evaluated at this point before.\n",
      "\n",
      "D:\\miniconda\\lib\\site-packages\\skopt\\optimizer\\optimizer.py:399: UserWarning:\n",
      "\n",
      "The objective has been evaluated at this point before.\n",
      "\n",
      "D:\\miniconda\\lib\\site-packages\\skopt\\optimizer\\optimizer.py:399: UserWarning:\n",
      "\n",
      "The objective has been evaluated at this point before.\n",
      "\n",
      "D:\\miniconda\\lib\\site-packages\\skopt\\optimizer\\optimizer.py:399: UserWarning:\n",
      "\n",
      "The objective has been evaluated at this point before.\n",
      "\n",
      "D:\\miniconda\\lib\\site-packages\\skopt\\optimizer\\optimizer.py:399: UserWarning:\n",
      "\n",
      "The objective has been evaluated at this point before.\n",
      "\n",
      "D:\\miniconda\\lib\\site-packages\\skopt\\optimizer\\optimizer.py:399: UserWarning:\n",
      "\n",
      "The objective has been evaluated at this point before.\n",
      "\n",
      "D:\\miniconda\\lib\\site-packages\\skopt\\optimizer\\optimizer.py:399: UserWarning:\n",
      "\n",
      "The objective has been evaluated at this point before.\n",
      "\n",
      "D:\\miniconda\\lib\\site-packages\\skopt\\optimizer\\optimizer.py:399: UserWarning:\n",
      "\n",
      "The objective has been evaluated at this point before.\n",
      "\n",
      "D:\\miniconda\\lib\\site-packages\\skopt\\optimizer\\optimizer.py:399: UserWarning:\n",
      "\n",
      "The objective has been evaluated at this point before.\n",
      "\n",
      "D:\\miniconda\\lib\\site-packages\\skopt\\optimizer\\optimizer.py:399: UserWarning:\n",
      "\n",
      "The objective has been evaluated at this point before.\n",
      "\n",
      "D:\\miniconda\\lib\\site-packages\\skopt\\optimizer\\optimizer.py:399: UserWarning:\n",
      "\n",
      "The objective has been evaluated at this point before.\n",
      "\n"
     ]
    },
    {
     "data": {
      "text/plain": [
       "BayesSearchCV(cv=3, error_score='raise',\n",
       "       estimator=LGBMClassifier(boosting_type='gbdt', class_weight=None, colsample_bytree=1.0,\n",
       "        importance_type='split', learning_rate=0.1, max_depth=-1,\n",
       "        min_child_samples=20, min_child_weight=0.001, min_split_gain=0.0,\n",
       "        n_estimators=100, n_jobs=-1, num_leaves=31, objective=None,\n",
       "        random_state=None, reg_alpha=0.0, reg_lambda=0.0, silent=True,\n",
       "        subsample=1.0, subsample_for_bin=200000, subsample_freq=0),\n",
       "       fit_params=None, iid=True, n_iter=100, n_jobs=1, n_points=1,\n",
       "       optimizer_kwargs=None, pre_dispatch='2*n_jobs', random_state=0,\n",
       "       refit=True, return_train_score=False, scoring=None,\n",
       "       search_spaces={'n_estimators': Integer(low=100, high=1000), 'learning_rate': Real(low=0.0001, high=0.1, prior='log-uniform', transform='identity'), 'max_depth': Integer(low=1, high=10), 'subsample': Real(low=0.1, high=1, prior='uniform', transform='identity'), 'reg_alpha': Real(low=0.0001, high=1, prior='log-uniform', transform='identity'), 'reg_lambda': Real(low=0.0001, high=1, prior='log-uniform', transform='identity')},\n",
       "       verbose=0)"
      ]
     },
     "execution_count": 73,
     "metadata": {},
     "output_type": "execute_result"
    }
   ],
   "source": [
    "bayopt.fit(df_train.drop(columns=['Credit delay']), df_train['Credit delay'])"
   ]
  },
  {
   "cell_type": "code",
   "execution_count": 76,
   "metadata": {},
   "outputs": [
    {
     "data": {
      "text/plain": [
       "LGBMClassifier(boosting_type='gbdt', class_weight=None, colsample_bytree=1.0,\n",
       "        importance_type='split', learning_rate=0.08435967022181244,\n",
       "        max_depth=10, min_child_samples=20, min_child_weight=0.001,\n",
       "        min_split_gain=0.0, n_estimators=124, n_jobs=-1, num_leaves=31,\n",
       "        objective=None, random_state=None, reg_alpha=0.9689337888861052,\n",
       "        reg_lambda=0.0007342423179432522, silent=True,\n",
       "        subsample=0.9529615658111046, subsample_for_bin=200000,\n",
       "        subsample_freq=0)"
      ]
     },
     "execution_count": 76,
     "metadata": {},
     "output_type": "execute_result"
    }
   ],
   "source": [
    "# Результаты\n",
    "bayopt.best_estimator_"
   ]
  },
  {
   "cell_type": "code",
   "execution_count": 77,
   "metadata": {},
   "outputs": [
    {
     "name": "stdout",
     "output_type": "stream",
     "text": [
      "Средняя AUC ROC на обучении по перекрестной проверке: 0.864\n"
     ]
    }
   ],
   "source": [
    "# Применим лучшую модель в конвейере\n",
    "\n",
    "# Конвейер\n",
    "conveyor = Pipeline([('imputation', SimpleImputer(strategy='median')),\n",
    "                    ('classifier', bayopt.best_estimator_),\n",
    "                    ])\n",
    "\n",
    "# Кросс-валидация \n",
    "cv_avg = cross_val_score(conveyor, \n",
    "                         df_train.drop(columns=['Credit delay']), \n",
    "                         df_train['Credit delay'],\n",
    "                         scoring='roc_auc', \n",
    "                         cv=3).mean()\n",
    "\n",
    "print('Средняя AUC ROC на обучении по перекрестной проверке: {:.3f}'.format(cv_avg))"
   ]
  },
  {
   "cell_type": "markdown",
   "metadata": {},
   "source": [
    "Незначительный прирост"
   ]
  }
 ],
 "metadata": {
  "kernelspec": {
   "display_name": "Python 3",
   "language": "python",
   "name": "python3"
  },
  "language_info": {
   "codemirror_mode": {
    "name": "ipython",
    "version": 3
   },
   "file_extension": ".py",
   "mimetype": "text/x-python",
   "name": "python",
   "nbconvert_exporter": "python",
   "pygments_lexer": "ipython3",
   "version": "3.7.4"
  }
 },
 "nbformat": 4,
 "nbformat_minor": 2
}
