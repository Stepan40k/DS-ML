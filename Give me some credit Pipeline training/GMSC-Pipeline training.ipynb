{
 "cells": [
  {
   "cell_type": "code",
   "execution_count": 1,
   "metadata": {},
   "outputs": [],
   "source": [
    "import pandas as pd\n",
    "import numpy as np\n",
    "\n",
    "from sklearn.model_selection import cross_val_score\n",
    "from sklearn.preprocessing import StandardScaler, RobustScaler, MinMaxScaler\n",
    "from sklearn.linear_model import LogisticRegression\n",
    "from sklearn.pipeline import Pipeline\n",
    "from sklearn.impute import SimpleImputer"
   ]
  },
  {
   "cell_type": "code",
   "execution_count": 2,
   "metadata": {},
   "outputs": [],
   "source": [
    "# Чтение/переименование\n",
    "\n",
    "def read_rename(filename):\n",
    "    df = pd.read_csv(filename,index_col='Unnamed: 0')\n",
    "    df.rename(columns={'SeriousDlqin2yrs':'Факт просрочки кредита', 'age':'Возраст заемщика', \n",
    "                         'RevolvingUtilizationOfUnsecuredLines':'Отношение баланса на кредитках к лимиту', \n",
    "                         'NumberOfTime30-59DaysPastDueNotWorse':'Просрочки 30-59', 'DebtRatio':'Отношение доходы-расходы', \n",
    "                         'MonthlyIncome':'Доход', 'NumberOfOpenCreditLinesAndLoans':'Число открытых кредитов', \n",
    "                         'NumberOfTimes90DaysLate':'Просрочки >90',\n",
    "                         'NumberOfTime60-89DaysPastDueNotWorse':'Просрочки 60-89',\n",
    "                         'NumberRealEstateLoansOrLines':'Число ипотек', 'NumberOfDependents':'Иждивенцы'},\n",
    "               inplace=True)\n",
    "    return df"
   ]
  },
  {
   "cell_type": "code",
   "execution_count": 3,
   "metadata": {},
   "outputs": [],
   "source": [
    "df_train = read_rename('cs-training.csv')"
   ]
  },
  {
   "cell_type": "code",
   "execution_count": 4,
   "metadata": {},
   "outputs": [
    {
     "name": "stdout",
     "output_type": "stream",
     "text": [
      "<class 'pandas.core.frame.DataFrame'>\n",
      "Int64Index: 150000 entries, 1 to 150000\n",
      "Data columns (total 11 columns):\n",
      "Факт просрочки кредита                     150000 non-null int64\n",
      "Отношение баланса на кредитках к лимиту    150000 non-null float64\n",
      "Возраст заемщика                           150000 non-null int64\n",
      "Просрочки 30-59                            150000 non-null int64\n",
      "Отношение доходы-расходы                   150000 non-null float64\n",
      "Доход                                      120269 non-null float64\n",
      "Число открытых кредитов                    150000 non-null int64\n",
      "Просрочки >90                              150000 non-null int64\n",
      "Число ипотек                               150000 non-null int64\n",
      "Просрочки 60-89                            150000 non-null int64\n",
      "Иждивенцы                                  146076 non-null float64\n",
      "dtypes: float64(4), int64(7)\n",
      "memory usage: 13.7 MB\n"
     ]
    }
   ],
   "source": [
    "df_train.info()"
   ]
  },
  {
   "cell_type": "markdown",
   "metadata": {},
   "source": [
    "#### Создадим конвейер. \n",
    "Поскольку есть некоторые пропуски в данных, конвейер будет состоять из трех этапов:\n",
    "<ol>\n",
    "    <li>Импутации</li>\n",
    "    <li>Масштабирования</li>\n",
    "    <li>Алгоритма обучения</li>\n",
    "</ol>"
   ]
  },
  {
   "cell_type": "code",
   "execution_count": 7,
   "metadata": {},
   "outputs": [
    {
     "name": "stdout",
     "output_type": "stream",
     "text": [
      "Средняя правильность на обучении по перекрестной проверке: 0.698\n"
     ]
    }
   ],
   "source": [
    "# Конвейер\n",
    "conveyor = Pipeline([('imputation', SimpleImputer(strategy='median')),\n",
    "                    ('scaling', StandardScaler()),\n",
    "                    ('classifier', \n",
    "                     LogisticRegression(penalty='l2',C=1, random_state=0, max_iter=500)),\n",
    "                    ])\n",
    "\n",
    "# Кросс-валидация \n",
    "cv_avg = cross_val_score(conveyor, \n",
    "                         df_train.drop(columns='Факт просрочки кредита'), \n",
    "                         df_train['Факт просрочки кредита'],\n",
    "                         scoring='roc_auc', \n",
    "                         cv=3).mean()\n",
    "\n",
    "print('Средняя правильность на обучении по перекрестной проверке: {:.3f}'.format(cv_avg))"
   ]
  },
  {
   "cell_type": "code",
   "execution_count": null,
   "metadata": {},
   "outputs": [],
   "source": []
  }
 ],
 "metadata": {
  "kernelspec": {
   "display_name": "Python 3",
   "language": "python",
   "name": "python3"
  },
  "language_info": {
   "codemirror_mode": {
    "name": "ipython",
    "version": 3
   },
   "file_extension": ".py",
   "mimetype": "text/x-python",
   "name": "python",
   "nbconvert_exporter": "python",
   "pygments_lexer": "ipython3",
   "version": "3.7.4"
  }
 },
 "nbformat": 4,
 "nbformat_minor": 2
}
