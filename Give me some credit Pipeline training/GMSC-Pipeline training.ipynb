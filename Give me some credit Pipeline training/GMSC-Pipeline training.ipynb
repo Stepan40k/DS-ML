{
 "cells": [
  {
   "cell_type": "code",
   "execution_count": 1,
   "metadata": {},
   "outputs": [],
   "source": [
    "import pandas as pd\n",
    "import numpy as np"
   ]
  },
  {
   "cell_type": "markdown",
   "metadata": {},
   "source": [
    "<img src='img/Снимок.png'>"
   ]
  },
  {
   "cell_type": "code",
   "execution_count": 2,
   "metadata": {},
   "outputs": [
    {
     "data": {
      "text/html": [
       "<div>\n",
       "<style scoped>\n",
       "    .dataframe tbody tr th:only-of-type {\n",
       "        vertical-align: middle;\n",
       "    }\n",
       "\n",
       "    .dataframe tbody tr th {\n",
       "        vertical-align: top;\n",
       "    }\n",
       "\n",
       "    .dataframe thead th {\n",
       "        text-align: right;\n",
       "    }\n",
       "</style>\n",
       "<table border=\"1\" class=\"dataframe\">\n",
       "  <thead>\n",
       "    <tr style=\"text-align: right;\">\n",
       "      <th></th>\n",
       "      <th>SeriousDlqin2yrs</th>\n",
       "      <th>RevolvingUtilizationOfUnsecuredLines</th>\n",
       "      <th>age</th>\n",
       "      <th>NumberOfTime30-59DaysPastDueNotWorse</th>\n",
       "      <th>DebtRatio</th>\n",
       "      <th>MonthlyIncome</th>\n",
       "      <th>NumberOfOpenCreditLinesAndLoans</th>\n",
       "      <th>NumberOfTimes90DaysLate</th>\n",
       "      <th>NumberRealEstateLoansOrLines</th>\n",
       "      <th>NumberOfTime60-89DaysPastDueNotWorse</th>\n",
       "      <th>NumberOfDependents</th>\n",
       "    </tr>\n",
       "  </thead>\n",
       "  <tbody>\n",
       "    <tr>\n",
       "      <th>0</th>\n",
       "      <td>1</td>\n",
       "      <td>0.766127</td>\n",
       "      <td>45</td>\n",
       "      <td>2</td>\n",
       "      <td>0.802982</td>\n",
       "      <td>9120.0</td>\n",
       "      <td>13</td>\n",
       "      <td>0</td>\n",
       "      <td>6</td>\n",
       "      <td>0</td>\n",
       "      <td>2.0</td>\n",
       "    </tr>\n",
       "    <tr>\n",
       "      <th>1</th>\n",
       "      <td>0</td>\n",
       "      <td>0.957151</td>\n",
       "      <td>40</td>\n",
       "      <td>0</td>\n",
       "      <td>0.121876</td>\n",
       "      <td>2600.0</td>\n",
       "      <td>4</td>\n",
       "      <td>0</td>\n",
       "      <td>0</td>\n",
       "      <td>0</td>\n",
       "      <td>1.0</td>\n",
       "    </tr>\n",
       "  </tbody>\n",
       "</table>\n",
       "</div>"
      ],
      "text/plain": [
       "   SeriousDlqin2yrs  RevolvingUtilizationOfUnsecuredLines  age  \\\n",
       "0                 1                              0.766127   45   \n",
       "1                 0                              0.957151   40   \n",
       "\n",
       "   NumberOfTime30-59DaysPastDueNotWorse  DebtRatio  MonthlyIncome  \\\n",
       "0                                     2   0.802982         9120.0   \n",
       "1                                     0   0.121876         2600.0   \n",
       "\n",
       "   NumberOfOpenCreditLinesAndLoans  NumberOfTimes90DaysLate  \\\n",
       "0                               13                        0   \n",
       "1                                4                        0   \n",
       "\n",
       "   NumberRealEstateLoansOrLines  NumberOfTime60-89DaysPastDueNotWorse  \\\n",
       "0                             6                                     0   \n",
       "1                             0                                     0   \n",
       "\n",
       "   NumberOfDependents  \n",
       "0                 2.0  \n",
       "1                 1.0  "
      ]
     },
     "execution_count": 2,
     "metadata": {},
     "output_type": "execute_result"
    }
   ],
   "source": [
    "df = pd.read_csv('cs-training.csv').drop(columns='Unnamed: 0')\n",
    "df.head(2)"
   ]
  },
  {
   "cell_type": "code",
   "execution_count": 3,
   "metadata": {},
   "outputs": [
    {
     "data": {
      "text/html": [
       "<div>\n",
       "<style scoped>\n",
       "    .dataframe tbody tr th:only-of-type {\n",
       "        vertical-align: middle;\n",
       "    }\n",
       "\n",
       "    .dataframe tbody tr th {\n",
       "        vertical-align: top;\n",
       "    }\n",
       "\n",
       "    .dataframe thead th {\n",
       "        text-align: right;\n",
       "    }\n",
       "</style>\n",
       "<table border=\"1\" class=\"dataframe\">\n",
       "  <thead>\n",
       "    <tr style=\"text-align: right;\">\n",
       "      <th></th>\n",
       "      <th>SeriousDlqin2yrs</th>\n",
       "      <th>RevolvingUtilizationOfUnsecuredLines</th>\n",
       "      <th>age</th>\n",
       "      <th>NumberOfTime30-59DaysPastDueNotWorse</th>\n",
       "      <th>DebtRatio</th>\n",
       "      <th>MonthlyIncome</th>\n",
       "      <th>NumberOfOpenCreditLinesAndLoans</th>\n",
       "      <th>NumberOfTimes90DaysLate</th>\n",
       "      <th>NumberRealEstateLoansOrLines</th>\n",
       "      <th>NumberOfTime60-89DaysPastDueNotWorse</th>\n",
       "      <th>NumberOfDependents</th>\n",
       "    </tr>\n",
       "  </thead>\n",
       "  <tbody>\n",
       "    <tr>\n",
       "      <th>count</th>\n",
       "      <td>150000.000000</td>\n",
       "      <td>150000.000000</td>\n",
       "      <td>150000.000000</td>\n",
       "      <td>150000.000000</td>\n",
       "      <td>150000.000000</td>\n",
       "      <td>1.202690e+05</td>\n",
       "      <td>150000.000000</td>\n",
       "      <td>150000.000000</td>\n",
       "      <td>150000.000000</td>\n",
       "      <td>150000.000000</td>\n",
       "      <td>146076.000000</td>\n",
       "    </tr>\n",
       "    <tr>\n",
       "      <th>mean</th>\n",
       "      <td>0.066840</td>\n",
       "      <td>6.048438</td>\n",
       "      <td>52.295207</td>\n",
       "      <td>0.421033</td>\n",
       "      <td>353.005076</td>\n",
       "      <td>6.670221e+03</td>\n",
       "      <td>8.452760</td>\n",
       "      <td>0.265973</td>\n",
       "      <td>1.018240</td>\n",
       "      <td>0.240387</td>\n",
       "      <td>0.757222</td>\n",
       "    </tr>\n",
       "    <tr>\n",
       "      <th>std</th>\n",
       "      <td>0.249746</td>\n",
       "      <td>249.755371</td>\n",
       "      <td>14.771866</td>\n",
       "      <td>4.192781</td>\n",
       "      <td>2037.818523</td>\n",
       "      <td>1.438467e+04</td>\n",
       "      <td>5.145951</td>\n",
       "      <td>4.169304</td>\n",
       "      <td>1.129771</td>\n",
       "      <td>4.155179</td>\n",
       "      <td>1.115086</td>\n",
       "    </tr>\n",
       "    <tr>\n",
       "      <th>min</th>\n",
       "      <td>0.000000</td>\n",
       "      <td>0.000000</td>\n",
       "      <td>0.000000</td>\n",
       "      <td>0.000000</td>\n",
       "      <td>0.000000</td>\n",
       "      <td>0.000000e+00</td>\n",
       "      <td>0.000000</td>\n",
       "      <td>0.000000</td>\n",
       "      <td>0.000000</td>\n",
       "      <td>0.000000</td>\n",
       "      <td>0.000000</td>\n",
       "    </tr>\n",
       "    <tr>\n",
       "      <th>25%</th>\n",
       "      <td>0.000000</td>\n",
       "      <td>0.029867</td>\n",
       "      <td>41.000000</td>\n",
       "      <td>0.000000</td>\n",
       "      <td>0.175074</td>\n",
       "      <td>3.400000e+03</td>\n",
       "      <td>5.000000</td>\n",
       "      <td>0.000000</td>\n",
       "      <td>0.000000</td>\n",
       "      <td>0.000000</td>\n",
       "      <td>0.000000</td>\n",
       "    </tr>\n",
       "    <tr>\n",
       "      <th>50%</th>\n",
       "      <td>0.000000</td>\n",
       "      <td>0.154181</td>\n",
       "      <td>52.000000</td>\n",
       "      <td>0.000000</td>\n",
       "      <td>0.366508</td>\n",
       "      <td>5.400000e+03</td>\n",
       "      <td>8.000000</td>\n",
       "      <td>0.000000</td>\n",
       "      <td>1.000000</td>\n",
       "      <td>0.000000</td>\n",
       "      <td>0.000000</td>\n",
       "    </tr>\n",
       "    <tr>\n",
       "      <th>75%</th>\n",
       "      <td>0.000000</td>\n",
       "      <td>0.559046</td>\n",
       "      <td>63.000000</td>\n",
       "      <td>0.000000</td>\n",
       "      <td>0.868254</td>\n",
       "      <td>8.249000e+03</td>\n",
       "      <td>11.000000</td>\n",
       "      <td>0.000000</td>\n",
       "      <td>2.000000</td>\n",
       "      <td>0.000000</td>\n",
       "      <td>1.000000</td>\n",
       "    </tr>\n",
       "    <tr>\n",
       "      <th>max</th>\n",
       "      <td>1.000000</td>\n",
       "      <td>50708.000000</td>\n",
       "      <td>109.000000</td>\n",
       "      <td>98.000000</td>\n",
       "      <td>329664.000000</td>\n",
       "      <td>3.008750e+06</td>\n",
       "      <td>58.000000</td>\n",
       "      <td>98.000000</td>\n",
       "      <td>54.000000</td>\n",
       "      <td>98.000000</td>\n",
       "      <td>20.000000</td>\n",
       "    </tr>\n",
       "  </tbody>\n",
       "</table>\n",
       "</div>"
      ],
      "text/plain": [
       "       SeriousDlqin2yrs  RevolvingUtilizationOfUnsecuredLines            age  \\\n",
       "count     150000.000000                         150000.000000  150000.000000   \n",
       "mean           0.066840                              6.048438      52.295207   \n",
       "std            0.249746                            249.755371      14.771866   \n",
       "min            0.000000                              0.000000       0.000000   \n",
       "25%            0.000000                              0.029867      41.000000   \n",
       "50%            0.000000                              0.154181      52.000000   \n",
       "75%            0.000000                              0.559046      63.000000   \n",
       "max            1.000000                          50708.000000     109.000000   \n",
       "\n",
       "       NumberOfTime30-59DaysPastDueNotWorse      DebtRatio  MonthlyIncome  \\\n",
       "count                         150000.000000  150000.000000   1.202690e+05   \n",
       "mean                               0.421033     353.005076   6.670221e+03   \n",
       "std                                4.192781    2037.818523   1.438467e+04   \n",
       "min                                0.000000       0.000000   0.000000e+00   \n",
       "25%                                0.000000       0.175074   3.400000e+03   \n",
       "50%                                0.000000       0.366508   5.400000e+03   \n",
       "75%                                0.000000       0.868254   8.249000e+03   \n",
       "max                               98.000000  329664.000000   3.008750e+06   \n",
       "\n",
       "       NumberOfOpenCreditLinesAndLoans  NumberOfTimes90DaysLate  \\\n",
       "count                    150000.000000            150000.000000   \n",
       "mean                          8.452760                 0.265973   \n",
       "std                           5.145951                 4.169304   \n",
       "min                           0.000000                 0.000000   \n",
       "25%                           5.000000                 0.000000   \n",
       "50%                           8.000000                 0.000000   \n",
       "75%                          11.000000                 0.000000   \n",
       "max                          58.000000                98.000000   \n",
       "\n",
       "       NumberRealEstateLoansOrLines  NumberOfTime60-89DaysPastDueNotWorse  \\\n",
       "count                 150000.000000                         150000.000000   \n",
       "mean                       1.018240                              0.240387   \n",
       "std                        1.129771                              4.155179   \n",
       "min                        0.000000                              0.000000   \n",
       "25%                        0.000000                              0.000000   \n",
       "50%                        1.000000                              0.000000   \n",
       "75%                        2.000000                              0.000000   \n",
       "max                       54.000000                             98.000000   \n",
       "\n",
       "       NumberOfDependents  \n",
       "count       146076.000000  \n",
       "mean             0.757222  \n",
       "std              1.115086  \n",
       "min              0.000000  \n",
       "25%              0.000000  \n",
       "50%              0.000000  \n",
       "75%              1.000000  \n",
       "max             20.000000  "
      ]
     },
     "execution_count": 3,
     "metadata": {},
     "output_type": "execute_result"
    }
   ],
   "source": [
    "df.describe()"
   ]
  },
  {
   "cell_type": "markdown",
   "metadata": {},
   "source": [
    "## Исследование данных\n",
    "### 1. RevolvingUtilizationOfUnsecuredLines\n",
    "\n",
    "Отношение суммарного овердрафта по всем картам, к суммарному пределу по этим карта. На каждую карту не варьируется от 0 до 1. Косвенно может подсказать количество имеющихся карт."
   ]
  },
  {
   "cell_type": "code",
   "execution_count": 4,
   "metadata": {},
   "outputs": [
    {
     "data": {
      "text/plain": [
       "2.761009013480203"
      ]
     },
     "execution_count": 4,
     "metadata": {},
     "output_type": "execute_result"
    }
   ],
   "source": [
    "df.RevolvingUtilizationOfUnsecuredLines.quantile(q=0.998)"
   ]
  },
  {
   "cell_type": "markdown",
   "metadata": {},
   "source": [
    "99,8 % наблюдений показывают адекватные, вероятные в жизни значения овердрафтов. Значения выше скорее всего являются либо ошибкой ввода, либо каким то кодом. Проверим вид аномальных значений."
   ]
  },
  {
   "cell_type": "code",
   "execution_count": 5,
   "metadata": {
    "scrolled": false
   },
   "outputs": [
    {
     "data": {
      "text/plain": [
       "293        2340.000000\n",
       "697        2066.000000\n",
       "1991       1143.000000\n",
       "2331       6324.000000\n",
       "4278       1982.000000\n",
       "              ...     \n",
       "148828       73.846154\n",
       "149102     6109.000000\n",
       "149160    22000.000000\n",
       "149245      771.000000\n",
       "149279    20514.000000\n",
       "Name: RevolvingUtilizationOfUnsecuredLines, Length: 264, dtype: float64"
      ]
     },
     "execution_count": 5,
     "metadata": {},
     "output_type": "execute_result"
    }
   ],
   "source": [
    "pd.options.display.max_rows=100\n",
    "\n",
    "df.RevolvingUtilizationOfUnsecuredLines[df.RevolvingUtilizationOfUnsecuredLines>4]"
   ]
  },
  {
   "cell_type": "markdown",
   "metadata": {},
   "source": [
    "Значения порядка десятков, сотен и тысяч можно сократить до единиц и десятых. "
   ]
  },
  {
   "cell_type": "code",
   "execution_count": 6,
   "metadata": {},
   "outputs": [
    {
     "data": {
      "text/plain": [
       "count    150000.000000\n",
       "mean          6.048438\n",
       "std         249.755371\n",
       "min           0.000000\n",
       "25%           0.029867\n",
       "50%           0.154181\n",
       "75%           0.559046\n",
       "max       50708.000000\n",
       "Name: RevolvingUtilizationOfUnsecuredLines, dtype: float64"
      ]
     },
     "execution_count": 6,
     "metadata": {},
     "output_type": "execute_result"
    }
   ],
   "source": [
    "# Статистика до преобразования\n",
    "df.RevolvingUtilizationOfUnsecuredLines.describe()"
   ]
  },
  {
   "cell_type": "code",
   "execution_count": 7,
   "metadata": {},
   "outputs": [],
   "source": [
    "for n in range(4):\n",
    "    df.RevolvingUtilizationOfUnsecuredLines = np.where(df.RevolvingUtilizationOfUnsecuredLines>(10000/10**n), \n",
    "                                                       df.RevolvingUtilizationOfUnsecuredLines/(100000/10**n), \n",
    "                                                       df.RevolvingUtilizationOfUnsecuredLines)"
   ]
  },
  {
   "cell_type": "code",
   "execution_count": 8,
   "metadata": {},
   "outputs": [
    {
     "data": {
      "text/plain": [
       "count    150000.000000\n",
       "mean          0.322877\n",
       "std           0.366610\n",
       "min           0.000000\n",
       "25%           0.029867\n",
       "50%           0.153994\n",
       "75%           0.555956\n",
       "max           8.851852\n",
       "Name: RevolvingUtilizationOfUnsecuredLines, dtype: float64"
      ]
     },
     "execution_count": 8,
     "metadata": {},
     "output_type": "execute_result"
    }
   ],
   "source": [
    "# Статистика после преобразования\n",
    "df.RevolvingUtilizationOfUnsecuredLines.describe()"
   ]
  },
  {
   "cell_type": "markdown",
   "metadata": {},
   "source": [
    "### 2. age\n",
    "\n",
    "Возраст заемщика. Коррелирует с социальным статусом и благополучием до определенного момента (пенсионный возраст) после которого по состоянию здоровья и доходу выдача кредита становится рискованной."
   ]
  },
  {
   "cell_type": "code",
   "execution_count": 9,
   "metadata": {},
   "outputs": [
    {
     "data": {
      "text/plain": [
       "49     3837\n",
       "48     3806\n",
       "50     3753\n",
       "63     3719\n",
       "47     3719\n",
       "       ... \n",
       "101       3\n",
       "109       2\n",
       "107       1\n",
       "105       1\n",
       "0         1\n",
       "Name: age, Length: 86, dtype: int64"
      ]
     },
     "execution_count": 9,
     "metadata": {},
     "output_type": "execute_result"
    }
   ],
   "source": [
    "pd.options.display.max_rows=10\n",
    "df.age.value_counts()"
   ]
  },
  {
   "cell_type": "markdown",
   "metadata": {},
   "source": [
    "Возраст 0 лет является скорее всего каким то пропуском первой значащей цифры (30,40,50). Аномальные возраста можно объединить к полуоткрытой группе старше определенного возраста.  \n",
    "Попробуем объеденить различные значения возраста на возрастные категории, например, по рекомендации НБКИ:\n",
    "* До 24 лет (для США 21-24)\n",
    "* 25-34 года\n",
    "* 35-44 года\n",
    "* 45-59 лет\n",
    "* 60 лет и старше"
   ]
  },
  {
   "cell_type": "code",
   "execution_count": 10,
   "metadata": {},
   "outputs": [
    {
     "data": {
      "text/plain": [
       "4    53880\n",
       "5    48318\n",
       "3    28563\n",
       "2    17165\n",
       "1     2074\n",
       "Name: age, dtype: int64"
      ]
     },
     "execution_count": 10,
     "metadata": {},
     "output_type": "execute_result"
    }
   ],
   "source": [
    "# Сначала промежуточно поделим на численные категории, потому что numpy.where \n",
    "# не умеет фильтровать переменные смешанного типа\n",
    "df.age = np.where( (df.age == 0), np.median(df.age), df.age )\n",
    "df.age = np.where( (df.age >= 21)&(df.age <= 24), 1, df.age )\n",
    "df.age = np.where( (df.age >= 25)&(df.age <= 34), 2, df.age )\n",
    "df.age = np.where( (df.age >= 35)&(df.age <= 44), 3, df.age )\n",
    "df.age = np.where( (df.age >= 45)&(df.age <= 59), 4, df.age )\n",
    "df.age = np.where( (df.age >= 60), 5, df.age )\n",
    "\n",
    "df.age = df.age.apply(int)\n",
    "df.age.value_counts()"
   ]
  },
  {
   "cell_type": "code",
   "execution_count": 11,
   "metadata": {},
   "outputs": [
    {
     "data": {
      "text/plain": [
       "45-59 лет        53880\n",
       "Старше 60 лет    48318\n",
       "35-44 года       28563\n",
       "25-34 года       17165\n",
       "До 24 лет         2074\n",
       "Name: age, dtype: int64"
      ]
     },
     "execution_count": 11,
     "metadata": {},
     "output_type": "execute_result"
    }
   ],
   "source": [
    "# Теперь одиночные числовые метки можно преобразовать в строковые категории. \n",
    "# Это нужно для последующего дамми-кодирования.\n",
    "df.age = np.where( df.age == 1, \"До 24 лет\", df.age )\n",
    "df.age = np.where( df.age == '2', \"25-34 года\", df.age )\n",
    "df.age = np.where( df.age == '3', \"35-44 года\", df.age )\n",
    "df.age = np.where( df.age == '4', \"45-59 лет\", df.age )\n",
    "df.age = np.where( df.age == '5', \"Старше 60 лет\", df.age )\n",
    "df.age.value_counts()"
   ]
  },
  {
   "cell_type": "markdown",
   "metadata": {},
   "source": [
    "### 3. NumberOfTime30-59DaysPastDueNotWorse / NumberOfTime60-89DaysPastDueNotWorse / NumberOfTimes90DaysLate\n",
    "Количество просрочек кредита на срок 30-59 дней, 60-89 дней и свыше 90 дней. "
   ]
  },
  {
   "cell_type": "code",
   "execution_count": 12,
   "metadata": {},
   "outputs": [
    {
     "data": {
      "text/html": [
       "<div>\n",
       "<style scoped>\n",
       "    .dataframe tbody tr th:only-of-type {\n",
       "        vertical-align: middle;\n",
       "    }\n",
       "\n",
       "    .dataframe tbody tr th {\n",
       "        vertical-align: top;\n",
       "    }\n",
       "\n",
       "    .dataframe thead th {\n",
       "        text-align: right;\n",
       "    }\n",
       "</style>\n",
       "<table border=\"1\" class=\"dataframe\">\n",
       "  <thead>\n",
       "    <tr style=\"text-align: right;\">\n",
       "      <th></th>\n",
       "      <th>NumberOfTime30-59DaysPastDueNotWorse</th>\n",
       "      <th>NumberOfTime60-89DaysPastDueNotWorse</th>\n",
       "      <th>NumberOfTimes90DaysLate</th>\n",
       "    </tr>\n",
       "  </thead>\n",
       "  <tbody>\n",
       "    <tr>\n",
       "      <th>count</th>\n",
       "      <td>150000.000000</td>\n",
       "      <td>150000.000000</td>\n",
       "      <td>150000.000000</td>\n",
       "    </tr>\n",
       "    <tr>\n",
       "      <th>mean</th>\n",
       "      <td>0.421033</td>\n",
       "      <td>0.240387</td>\n",
       "      <td>0.265973</td>\n",
       "    </tr>\n",
       "    <tr>\n",
       "      <th>std</th>\n",
       "      <td>4.192781</td>\n",
       "      <td>4.155179</td>\n",
       "      <td>4.169304</td>\n",
       "    </tr>\n",
       "    <tr>\n",
       "      <th>min</th>\n",
       "      <td>0.000000</td>\n",
       "      <td>0.000000</td>\n",
       "      <td>0.000000</td>\n",
       "    </tr>\n",
       "    <tr>\n",
       "      <th>25%</th>\n",
       "      <td>0.000000</td>\n",
       "      <td>0.000000</td>\n",
       "      <td>0.000000</td>\n",
       "    </tr>\n",
       "    <tr>\n",
       "      <th>50%</th>\n",
       "      <td>0.000000</td>\n",
       "      <td>0.000000</td>\n",
       "      <td>0.000000</td>\n",
       "    </tr>\n",
       "    <tr>\n",
       "      <th>75%</th>\n",
       "      <td>0.000000</td>\n",
       "      <td>0.000000</td>\n",
       "      <td>0.000000</td>\n",
       "    </tr>\n",
       "    <tr>\n",
       "      <th>max</th>\n",
       "      <td>98.000000</td>\n",
       "      <td>98.000000</td>\n",
       "      <td>98.000000</td>\n",
       "    </tr>\n",
       "  </tbody>\n",
       "</table>\n",
       "</div>"
      ],
      "text/plain": [
       "       NumberOfTime30-59DaysPastDueNotWorse  \\\n",
       "count                         150000.000000   \n",
       "mean                               0.421033   \n",
       "std                                4.192781   \n",
       "min                                0.000000   \n",
       "25%                                0.000000   \n",
       "50%                                0.000000   \n",
       "75%                                0.000000   \n",
       "max                               98.000000   \n",
       "\n",
       "       NumberOfTime60-89DaysPastDueNotWorse  NumberOfTimes90DaysLate  \n",
       "count                         150000.000000            150000.000000  \n",
       "mean                               0.240387                 0.265973  \n",
       "std                                4.155179                 4.169304  \n",
       "min                                0.000000                 0.000000  \n",
       "25%                                0.000000                 0.000000  \n",
       "50%                                0.000000                 0.000000  \n",
       "75%                                0.000000                 0.000000  \n",
       "max                               98.000000                98.000000  "
      ]
     },
     "execution_count": 12,
     "metadata": {},
     "output_type": "execute_result"
    }
   ],
   "source": [
    "df[['NumberOfTime30-59DaysPastDueNotWorse','NumberOfTime60-89DaysPastDueNotWorse',\n",
    "    'NumberOfTimes90DaysLate']].describe()"
   ]
  },
  {
   "cell_type": "code",
   "execution_count": 13,
   "metadata": {},
   "outputs": [
    {
     "name": "stdout",
     "output_type": "stream",
     "text": [
      "0     126018\n",
      "1      16033\n",
      "2       4598\n",
      "3       1754\n",
      "4        747\n",
      "       ...  \n",
      "96         5\n",
      "10         4\n",
      "12         2\n",
      "13         1\n",
      "11         1\n",
      "Name: NumberOfTime30-59DaysPastDueNotWorse, Length: 16, dtype: int64\n",
      "0     142396\n",
      "1       5731\n",
      "2       1118\n",
      "3        318\n",
      "98       264\n",
      "       ...  \n",
      "7          9\n",
      "96         5\n",
      "8          2\n",
      "11         1\n",
      "9          1\n",
      "Name: NumberOfTime60-89DaysPastDueNotWorse, Length: 13, dtype: int64\n",
      "0     141662\n",
      "1       5243\n",
      "2       1555\n",
      "3        667\n",
      "4        291\n",
      "       ...  \n",
      "13         4\n",
      "12         2\n",
      "14         2\n",
      "15         2\n",
      "17         1\n",
      "Name: NumberOfTimes90DaysLate, Length: 19, dtype: int64\n"
     ]
    }
   ],
   "source": [
    "for col in ['NumberOfTime30-59DaysPastDueNotWorse','NumberOfTime60-89DaysPastDueNotWorse','NumberOfTimes90DaysLate']:\n",
    "    print(df[col].value_counts())"
   ]
  },
  {
   "cell_type": "markdown",
   "metadata": {},
   "source": [
    "Подозрительные значения 96 и 98 повторяются часто и вероятно что то значат, выделим их в отдельную категорию.  \n",
    "Также выделим категории:\n",
    "* Нет просрочек\n",
    "* Одна просрочка \n",
    "* Две и более просрочек"
   ]
  },
  {
   "cell_type": "code",
   "execution_count": 14,
   "metadata": {},
   "outputs": [],
   "source": [
    "for col in ['NumberOfTime30-59DaysPastDueNotWorse','NumberOfTime60-89DaysPastDueNotWorse','NumberOfTimes90DaysLate']:\n",
    "    \n",
    "    df[col] = np.where( (df[col] == 96)|(df[col] == 98), 9999, df[col] )\n",
    "    df[col] = np.where( (df[col] == 1), 1, df[col] )\n",
    "    df[col] = np.where( (df[col] >= 2)&(df[col] <= 95), 2, df[col] )"
   ]
  },
  {
   "cell_type": "code",
   "execution_count": 15,
   "metadata": {},
   "outputs": [
    {
     "data": {
      "text/plain": [
       "Нет просрочк            126018\n",
       "Одна просрочка           16033\n",
       "Более двух просрочек      7680\n",
       "Аномалия                   269\n",
       "Name: NumberOfTime30-59DaysPastDueNotWorse, dtype: int64"
      ]
     },
     "execution_count": 15,
     "metadata": {},
     "output_type": "execute_result"
    }
   ],
   "source": [
    "for col in ['NumberOfTime30-59DaysPastDueNotWorse','NumberOfTime60-89DaysPastDueNotWorse','NumberOfTimes90DaysLate']:\n",
    "    \n",
    "    df[col] = np.where( (df[col] == 9999),'Аномалия' , df[col] )\n",
    "    df[col] = np.where( (df[col] == '0'), 'Нет просрочк', df[col] )\n",
    "    df[col] = np.where( (df[col] == '1'), 'Одна просрочка', df[col] )\n",
    "    df[col] = np.where( (df[col] == '2'), 'Более двух просрочек', df[col] )\n",
    "df['NumberOfTime30-59DaysPastDueNotWorse'].value_counts()"
   ]
  },
  {
   "cell_type": "markdown",
   "metadata": {},
   "source": [
    "### 4 DebtRatio\n",
    "Отношение ежемесячного платежа к ежемесячному доходу.  Значения свыше единицы особенно на много порядков, означают, скорее всего ошибку ввода. "
   ]
  },
  {
   "cell_type": "code",
   "execution_count": 16,
   "metadata": {},
   "outputs": [
    {
     "data": {
      "text/plain": [
       "count    150000.000000\n",
       "mean        353.005076\n",
       "std        2037.818523\n",
       "min           0.000000\n",
       "25%           0.175074\n",
       "50%           0.366508\n",
       "75%           0.868254\n",
       "max      329664.000000\n",
       "Name: DebtRatio, dtype: float64"
      ]
     },
     "execution_count": 16,
     "metadata": {},
     "output_type": "execute_result"
    }
   ],
   "source": [
    "df.DebtRatio.describe()"
   ]
  },
  {
   "cell_type": "code",
   "execution_count": 17,
   "metadata": {
    "scrolled": true
   },
   "outputs": [
    {
     "data": {
      "text/plain": [
       "99.0"
      ]
     },
     "execution_count": 17,
     "metadata": {},
     "output_type": "execute_result"
    }
   ],
   "source": [
    "pd.set_option(\"display.max_rows\", 101)\n",
    "df.DebtRatio[df.DebtRatio<100].max() "
   ]
  },
  {
   "cell_type": "code",
   "execution_count": 18,
   "metadata": {},
   "outputs": [
    {
     "data": {
      "text/plain": [
       "count    150000.000000\n",
       "mean          0.310706\n",
       "std           0.227837\n",
       "min           0.000000\n",
       "25%           0.138801\n",
       "50%           0.269285\n",
       "75%           0.440000\n",
       "max           1.000000\n",
       "Name: DebtRatio, dtype: float64"
      ]
     },
     "execution_count": 18,
     "metadata": {},
     "output_type": "execute_result"
    }
   ],
   "source": [
    "# Приведем к десятичному значению.\n",
    "for n in range(6):\n",
    "    df.DebtRatio = np.where(df.DebtRatio>(100000/10**n), df.DebtRatio/(1000000/10**n), df.DebtRatio)\n",
    "\n",
    "df.DebtRatio.describe()"
   ]
  },
  {
   "cell_type": "markdown",
   "metadata": {},
   "source": [
    "### 5. MonthlyIncome\n",
    "Ежемесячный доход неограничен сверху, но ограничен снизу согласно МРОТ. Для США (по данным 2016) с учетом чаевых МРОТ составляет порядка 340 долларов в месяц."
   ]
  },
  {
   "cell_type": "code",
   "execution_count": 19,
   "metadata": {},
   "outputs": [
    {
     "data": {
      "text/plain": [
       "count    120269.00\n",
       "mean       6670.22\n",
       "std       14384.67\n",
       "min           0.00\n",
       "25%        3400.00\n",
       "50%        5400.00\n",
       "75%        8249.00\n",
       "max     3008750.00\n",
       "Name: MonthlyIncome, dtype: float64"
      ]
     },
     "execution_count": 19,
     "metadata": {},
     "output_type": "execute_result"
    }
   ],
   "source": [
    "pd.set_option('float_format',lambda x: \"%.2f\" % x)\n",
    "df.MonthlyIncome.describe()"
   ]
  },
  {
   "cell_type": "code",
   "execution_count": 20,
   "metadata": {},
   "outputs": [
    {
     "data": {
      "text/plain": [
       "count    120269.00\n",
       "mean       6703.42\n",
       "std       14370.85\n",
       "min        1200.00\n",
       "25%        3400.00\n",
       "50%        5400.00\n",
       "75%        8249.00\n",
       "max     3008750.00\n",
       "Name: MonthlyIncome, dtype: float64"
      ]
     },
     "execution_count": 20,
     "metadata": {},
     "output_type": "execute_result"
    }
   ],
   "source": [
    "df.MonthlyIncome = np.where(df.MonthlyIncome < 1200, 1200, df.MonthlyIncome)\n",
    "df.MonthlyIncome.describe()"
   ]
  },
  {
   "cell_type": "markdown",
   "metadata": {},
   "source": [
    "### 6. NumberOfOpenCreditLinesAndLoans\n",
    "Число открытых кредитов. Теоретически неограниченно, если они небольшие (книга в кредит по 1$ ежемесячный платеж на год)"
   ]
  },
  {
   "cell_type": "code",
   "execution_count": 21,
   "metadata": {},
   "outputs": [
    {
     "data": {
      "text/plain": [
       "count   150000.00\n",
       "mean         8.45\n",
       "std          5.15\n",
       "min          0.00\n",
       "25%          5.00\n",
       "50%          8.00\n",
       "75%         11.00\n",
       "max         58.00\n",
       "Name: NumberOfOpenCreditLinesAndLoans, dtype: float64"
      ]
     },
     "execution_count": 21,
     "metadata": {},
     "output_type": "execute_result"
    }
   ],
   "source": [
    "df.NumberOfOpenCreditLinesAndLoans.describe()"
   ]
  },
  {
   "cell_type": "markdown",
   "metadata": {},
   "source": [
    "### 7. NumberRealEstateLoansOrLines\n",
    "Количество ипотек. "
   ]
  },
  {
   "cell_type": "code",
   "execution_count": 22,
   "metadata": {},
   "outputs": [
    {
     "data": {
      "text/plain": [
       "count   150000.00\n",
       "mean         1.02\n",
       "std          1.13\n",
       "min          0.00\n",
       "25%          0.00\n",
       "50%          1.00\n",
       "75%          2.00\n",
       "max         54.00\n",
       "Name: NumberRealEstateLoansOrLines, dtype: float64"
      ]
     },
     "execution_count": 22,
     "metadata": {},
     "output_type": "execute_result"
    }
   ],
   "source": [
    "df.NumberRealEstateLoansOrLines.describe()"
   ]
  },
  {
   "cell_type": "code",
   "execution_count": 23,
   "metadata": {},
   "outputs": [
    {
     "data": {
      "text/plain": [
       "0     56188\n",
       "1     52338\n",
       "2     31522\n",
       "3      6300\n",
       "4      2170\n",
       "5       689\n",
       "6       320\n",
       "7       171\n",
       "8        93\n",
       "9        78\n",
       "10       37\n",
       "11       23\n",
       "12       18\n",
       "13       15\n",
       "14        7\n",
       "15        7\n",
       "16        4\n",
       "17        4\n",
       "25        3\n",
       "18        2\n",
       "19        2\n",
       "20        2\n",
       "23        2\n",
       "32        1\n",
       "21        1\n",
       "26        1\n",
       "29        1\n",
       "54        1\n",
       "Name: NumberRealEstateLoansOrLines, dtype: int64"
      ]
     },
     "execution_count": 23,
     "metadata": {},
     "output_type": "execute_result"
    }
   ],
   "source": [
    "df.NumberRealEstateLoansOrLines.value_counts()"
   ]
  },
  {
   "cell_type": "markdown",
   "metadata": {},
   "source": [
    "Предполагаемые категории:\n",
    "* Нет ипотеки\n",
    "* Ипотека за свое жилье\n",
    "* Ипотека за два объекта\n",
    "* Ипотека за множество объектов"
   ]
  },
  {
   "cell_type": "code",
   "execution_count": 24,
   "metadata": {},
   "outputs": [
    {
     "data": {
      "text/plain": [
       "Нет ипотеки                      56188\n",
       "Ипотека за свое жилье            52338\n",
       "Ипотека за два объекта           31522\n",
       "Ипотека за множество объектов     9952\n",
       "Name: NumberRealEstateLoansOrLines, dtype: int64"
      ]
     },
     "execution_count": 24,
     "metadata": {},
     "output_type": "execute_result"
    }
   ],
   "source": [
    "for col in ['NumberRealEstateLoansOrLines']:\n",
    "    df[col] = np.where( (df[col] > 2), 9999, df[col] )\n",
    "    df[col] = np.where( (df[col] == 0), 'Нет ипотеки', df[col] )\n",
    "    df[col] = np.where( (df[col] == '1'), 'Ипотека за свое жилье', df[col] )\n",
    "    df[col] = np.where( (df[col] == '2'), 'Ипотека за два объекта', df[col] )\n",
    "    df[col] = np.where( (df[col] == '9999'), 'Ипотека за множество объектов', df[col] )\n",
    "\n",
    "    \n",
    "df.NumberRealEstateLoansOrLines.value_counts()"
   ]
  },
  {
   "cell_type": "markdown",
   "metadata": {},
   "source": [
    "### 8. NumberOfDependents\n",
    "Число иждивенцев теоретически неограничено. Десятки иждивенцев - характерный портрет иммигрантов с Ближнего Востока, живущих в традиционной семье. "
   ]
  },
  {
   "cell_type": "code",
   "execution_count": 25,
   "metadata": {},
   "outputs": [
    {
     "data": {
      "text/plain": [
       "0.00     86902\n",
       "1.00     26316\n",
       "2.00     19522\n",
       "3.00      9483\n",
       "4.00      2862\n",
       "5.00       746\n",
       "6.00       158\n",
       "7.00        51\n",
       "8.00        24\n",
       "9.00         5\n",
       "10.00        5\n",
       "13.00        1\n",
       "20.00        1\n",
       "Name: NumberOfDependents, dtype: int64"
      ]
     },
     "execution_count": 25,
     "metadata": {},
     "output_type": "execute_result"
    }
   ],
   "source": [
    "df.NumberOfDependents.value_counts()"
   ]
  },
  {
   "cell_type": "code",
   "execution_count": 26,
   "metadata": {},
   "outputs": [
    {
     "data": {
      "text/plain": [
       "0.00     86902\n",
       "1.00     26316\n",
       "2.00     19522\n",
       "3.00      9483\n",
       "4.00      2862\n",
       "5.00       746\n",
       "6.00       158\n",
       "7.00        51\n",
       "8.00        24\n",
       "9.00         5\n",
       "10.00        5\n",
       "13.00        1\n",
       "20.00        1\n",
       "Name: NumberOfDependents, dtype: int64"
      ]
     },
     "execution_count": 26,
     "metadata": {},
     "output_type": "execute_result"
    }
   ],
   "source": [
    "df.NumberOfDependents.value_counts()"
   ]
  },
  {
   "cell_type": "code",
   "execution_count": 27,
   "metadata": {},
   "outputs": [
    {
     "name": "stdout",
     "output_type": "stream",
     "text": [
      "<class 'pandas.core.frame.DataFrame'>\n",
      "RangeIndex: 150000 entries, 0 to 149999\n",
      "Data columns (total 11 columns):\n",
      "SeriousDlqin2yrs                        150000 non-null int64\n",
      "RevolvingUtilizationOfUnsecuredLines    150000 non-null float64\n",
      "age                                     150000 non-null object\n",
      "NumberOfTime30-59DaysPastDueNotWorse    150000 non-null object\n",
      "DebtRatio                               150000 non-null float64\n",
      "MonthlyIncome                           120269 non-null float64\n",
      "NumberOfOpenCreditLinesAndLoans         150000 non-null int64\n",
      "NumberOfTimes90DaysLate                 150000 non-null object\n",
      "NumberRealEstateLoansOrLines            150000 non-null object\n",
      "NumberOfTime60-89DaysPastDueNotWorse    150000 non-null object\n",
      "NumberOfDependents                      146076 non-null float64\n",
      "dtypes: float64(4), int64(2), object(5)\n",
      "memory usage: 12.6+ MB\n"
     ]
    }
   ],
   "source": [
    "df.info()"
   ]
  },
  {
   "cell_type": "markdown",
   "metadata": {},
   "source": [
    "## Подготовка конвейера"
   ]
  },
  {
   "cell_type": "code",
   "execution_count": 28,
   "metadata": {},
   "outputs": [],
   "source": [
    "# Списки столбцов\n",
    "cat_columns = df.dtypes[df.dtypes == 'object'].index\n",
    "num_columns = df.drop(columns='SeriousDlqin2yrs').dtypes[df.dtypes != 'object'].index"
   ]
  },
  {
   "cell_type": "code",
   "execution_count": 29,
   "metadata": {},
   "outputs": [],
   "source": [
    "from sklearn.preprocessing import OneHotEncoder, PowerTransformer\n",
    "from sklearn.pipeline import Pipeline\n",
    "from sklearn.impute import SimpleImputer\n",
    "from sklearn.compose import ColumnTransformer\n",
    "from sklearn.linear_model import LogisticRegression\n",
    "from sklearn.model_selection import cross_val_score"
   ]
  },
  {
   "cell_type": "code",
   "execution_count": 30,
   "metadata": {},
   "outputs": [],
   "source": [
    "# Конвейер категориальных переменных \n",
    "cat_pipe = Pipeline([('imp', SimpleImputer(strategy='most_frequent')),('ohe', OneHotEncoder(sparse=False))])\n",
    "\n",
    "# Конвейер численных переменных\n",
    "num_pipe = Pipeline([('imp', SimpleImputer(strategy='median')), ('power-trafo', PowerTransformer())])"
   ]
  },
  {
   "cell_type": "code",
   "execution_count": 31,
   "metadata": {},
   "outputs": [],
   "source": [
    "# Класс ColumnTransformer\n",
    "trafo = [\n",
    "    ('num', num_pipe, num_columns),\n",
    "    ('cat', cat_pipe, cat_columns)    \n",
    "]\n",
    "\n",
    "transformer = ColumnTransformer(transformers=trafo)"
   ]
  },
  {
   "cell_type": "code",
   "execution_count": 32,
   "metadata": {},
   "outputs": [],
   "source": [
    "ml_pipe = Pipeline([('tr', transformer),\n",
    "                     ('lr', LogisticRegression(solver='liblinear',max_iter=200))])"
   ]
  },
  {
   "cell_type": "code",
   "execution_count": 33,
   "metadata": {},
   "outputs": [],
   "source": [
    "roc =  round(cross_val_score(ml_pipe, \n",
    "                df.drop(columns='SeriousDlqin2yrs'), \n",
    "                df['SeriousDlqin2yrs'], \n",
    "                n_jobs=8, \n",
    "                cv=12, \n",
    "                scoring='roc_auc').mean(), 3)"
   ]
  },
  {
   "cell_type": "code",
   "execution_count": 34,
   "metadata": {},
   "outputs": [
    {
     "data": {
      "text/plain": [
       "0.856"
      ]
     },
     "execution_count": 34,
     "metadata": {},
     "output_type": "execute_result"
    }
   ],
   "source": [
    "roc"
   ]
  }
 ],
 "metadata": {
  "kernelspec": {
   "display_name": "Python 3",
   "language": "python",
   "name": "python3"
  },
  "language_info": {
   "codemirror_mode": {
    "name": "ipython",
    "version": 3
   },
   "file_extension": ".py",
   "mimetype": "text/x-python",
   "name": "python",
   "nbconvert_exporter": "python",
   "pygments_lexer": "ipython3",
   "version": "3.7.4"
  }
 },
 "nbformat": 4,
 "nbformat_minor": 2
}
